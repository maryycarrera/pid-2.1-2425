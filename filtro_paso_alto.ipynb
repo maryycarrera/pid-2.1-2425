{
 "cells": [
  {
   "cell_type": "code",
   "execution_count": null,
   "metadata": {},
   "outputs": [],
   "source": [
    "import cv2\n",
    "import numpy as np\n",
    "import matplotlib.pyplot as plt\n",
    "import os"
   ]
  },
  {
   "cell_type": "markdown",
   "metadata": {},
   "source": [
    "# Función para cargar y mostrar imágenes, tomando como base el paso de \"Comprobación rápida\""
   ]
  },
  {
   "cell_type": "code",
   "execution_count": null,
   "metadata": {},
   "outputs": [],
   "source": [
    "def load_image(img_path):\n",
    "    \"\"\"\n",
    "    Carga una imagen desde la ruta dada (BGR) y la convierte a RGB para visualizar con Matplotlib.\n",
    "    Retorna la imagen en formato RGB y, además, la original en escala de grises.\n",
    "    \"\"\"\n",
    "    img_bgr = cv2.imread(img_path)\n",
    "    if img_bgr is None:\n",
    "        raise ValueError(f\"No se pudo cargar la imagen en la ruta: {img_path}\")\n",
    "\n",
    "    img_rgb = cv2.cvtColor(img_bgr, cv2.COLOR_BGR2RGB)\n",
    "    img_gray = cv2.cvtColor(img_bgr, cv2.COLOR_BGR2GRAY)\n",
    "\n",
    "    return img_rgb, img_gray\n",
    "    \n",
    "\n",
    "def show_image(img_rgb, title=\"Imagen\"):\n",
    "    \"\"\"\n",
    "    Muestra una imagen en RGB con Matplotlib.\n",
    "    \"\"\"\n",
    "    plt.imshow(img_rgb)\n",
    "    plt.title(title)\n",
    "    plt.axis(\"off\")\n",
    "    plt.show()"
   ]
  },
  {
   "cell_type": "markdown",
   "metadata": {},
   "source": [
    "# Implementación del Filtro de Paso Alto Gaussiano (basado en el método descrito en Saha (2014) para obtener contenido de alta frecuencia)"
   ]
  },
  {
   "cell_type": "code",
   "execution_count": null,
   "metadata": {},
   "outputs": [],
   "source": [
    "def high_pass_filter_gaussian(img_gray, ksize=5):\n",
    "    \"\"\"\n",
    "    Aplica un filtro de paso alto a la imagen en escala de grises (img_gray),\n",
    "    restando la versión suavizada (Gaussiana) de la imagen original.\n",
    "    Retorna la imagen realzada en altas frecuencias.\n",
    "    \n",
    "    ksize: Tamaño del kernel del filtro Gaussiano (debe ser impar).\n",
    "    \"\"\"\n",
    "    # Filtro Gaussiano (paso bajo)\n",
    "    blurred = cv2.GaussianBlur(img_gray, (ksize, ksize), 0)\n",
    "    # Paso alto = imagen original - imagen suavizada\n",
    "    high_freq = cv2.subtract(img_gray, blurred)\n",
    "    return high_freq"
   ]
  },
  {
   "cell_type": "markdown",
   "metadata": {},
   "source": [
    "# Implementación del Filtro de Paso Alto con Filtro de la Media (visto en las transparencias de la asignatura)"
   ]
  },
  {
   "cell_type": "code",
   "execution_count": null,
   "metadata": {},
   "outputs": [],
   "source": [
    "def high_pass_filter_mean(img_gray, ksize=5):\n",
    "    \"\"\"\n",
    "    Aplica un filtro de paso alto a la imagen en escala de grises (img_gray),\n",
    "    restando la versión suavizada (Media) de la imagen original.\n",
    "    Retorna la imagen realzada en altas frecuencias.\n",
    "    \n",
    "    ksize: Tamaño del kernel del filtro media (debe ser impar).\n",
    "    \"\"\"\n",
    "    # Filtro Media (paso bajo)\n",
    "    blurred = cv2.blur(img_gray, (ksize, ksize))\n",
    "    # Paso alto = imagen original - imagen suavizada\n",
    "    high_freq = cv2.subtract(img_gray, blurred)\n",
    "    return high_freq"
   ]
  },
  {
   "cell_type": "markdown",
   "metadata": {},
   "source": [
    "# Implementación del Filtro de Paso Alto con Filtro de la Mediana (visto en las transparencias de la asignatura)"
   ]
  },
  {
   "cell_type": "code",
   "execution_count": null,
   "metadata": {},
   "outputs": [],
   "source": [
    "def high_pass_filter_median(img_gray, ksize=5):\n",
    "    \"\"\"\n",
    "    Aplica un filtro de paso alto a la imagen en escala de grises (img_gray),\n",
    "    restando la versión suavizada (Mediana) de la imagen original.\n",
    "    Retorna la imagen realzada en altas frecuencias.\n",
    "    \n",
    "    ksize: Tamaño del kernel del filtro mediana (debe ser impar).\n",
    "    \"\"\"\n",
    "    # Filtro Mediana (paso bajo)\n",
    "    blurred = cv2.medianBlur(img_gray, ksize)\n",
    "    # Paso alto = imagen original - imagen suavizada\n",
    "    high_freq = cv2.subtract(img_gray, blurred)\n",
    "    return high_freq"
   ]
  },
  {
   "cell_type": "markdown",
   "metadata": {},
   "source": [
    "# Métrica básica para cuantificar nitidez usando el contenido de alta frecuencia"
   ]
  },
  {
   "cell_type": "code",
   "execution_count": null,
   "metadata": {},
   "outputs": [],
   "source": [
    "def metric_highfreq(img_gray, ksize=5, filter_function=high_pass_filter_gaussian):\n",
    "    \"\"\"\n",
    "    Calcula una medida de nitidez basada en la 'energía' (o varianza) \n",
    "    de la imagen de alta frecuencia.\n",
    "    \"\"\"\n",
    "    hf = filter_function(img_gray, ksize=ksize)\n",
    "    # Por ejemplo, podríamos usar la varianza como aproximación\n",
    "    return np.var(hf)"
   ]
  },
  {
   "cell_type": "code",
   "execution_count": null,
   "metadata": {},
   "outputs": [],
   "source": [
    "def process_all_images_in_folders(\n",
    "    input_root=\"images\",\n",
    "    output_root=\"images_high_frec\",\n",
    "    ksize=5,\n",
    "    filter=\"gaussian\"\n",
    "):\n",
    "    \"\"\"\n",
    "    Recorre todas las subcarpetas dentro de 'input_root'.\n",
    "    - Para cada archivo .png, calcula el contenido de alta frecuencia.\n",
    "    - Guarda la imagen en 'output_root' manteniendo la misma estructura de subcarpetas.\n",
    "    - Genera un archivo .txt con la varianza de cada imagen procesada.\n",
    "    \"\"\"\n",
    "    # Crear la carpeta raíz de salida, si no existe\n",
    "    os.makedirs(output_root, exist_ok=True)\n",
    "\n",
    "    # Definir la función de filtro a utilizar\n",
    "    if filter.lower() == \"gaussian\":\n",
    "        filter_function = high_pass_filter_gaussian\n",
    "    elif filter.lower() == \"mean\":\n",
    "        filter_function = high_pass_filter_mean\n",
    "    elif filter.lower() == \"median\":\n",
    "        filter_function = high_pass_filter_median\n",
    "    else:\n",
    "        raise ValueError(f\"El filtro '{filter}' no está soportado.\")\n",
    "\n",
    "    # Iterar sobre todas las subcarpetas de 'input_root'\n",
    "    for subfolder in sorted(os.listdir(input_root)):\n",
    "        subfolder_path = os.path.join(input_root, subfolder)\n",
    "        \n",
    "        # Verificamos si efectivamente es una carpeta\n",
    "        if not os.path.isdir(subfolder_path):\n",
    "            continue\n",
    "        \n",
    "        # Crear subcarpeta de salida correspondiente en 'output_root'\n",
    "        output_subfolder = os.path.join(output_root, subfolder)\n",
    "        output_subfolder = os.path.join(output_subfolder, filter)\n",
    "        os.makedirs(output_subfolder, exist_ok=True)\n",
    "        \n",
    "        # Crear/abrir el archivo txt donde guardaremos la info de varianza\n",
    "        txt_path = os.path.join(output_subfolder, \"info_varianzas\" + \"_\" + filter + \".txt\")\n",
    "        \n",
    "        with open(txt_path, \"w\", encoding=\"utf-8\") as f_txt:\n",
    "            # Escribir descripción breve de qué significan esos valores\n",
    "            f_txt.write(\"Este archivo contiene la varianza de alta frecuencia para cada imagen de la carpeta:\\n\")\n",
    "            f_txt.write(f\"{subfolder_path}\\n\\n\")\n",
    "            f_txt.write(\"La varianza indica la dispersión de los valores de alta frecuencia.\\n\")\n",
    "            f_txt.write(\"Valores mayores suelen corresponder a más bordes (y a veces mayor nitidez).\\n\\n\")\n",
    "            \n",
    "            # Recorremos los archivos dentro de la subcarpeta\n",
    "            for filename in sorted(os.listdir(subfolder_path)):\n",
    "                if filename.lower().endswith(\".png\"):\n",
    "                    # Ruta completa del archivo de entrada\n",
    "                    input_image_path = os.path.join(subfolder_path, filename)\n",
    "                    \n",
    "                    # Leer la imagen\n",
    "                    img_bgr = cv2.imread(input_image_path)\n",
    "                    if img_bgr is None:\n",
    "                        continue\n",
    "                    img_gray = cv2.cvtColor(img_bgr, cv2.COLOR_BGR2GRAY)\n",
    "\n",
    "                    # Obtener contenido de alta frecuencia\n",
    "                    hf_img = filter_function(img_gray, ksize=ksize)\n",
    "                    \n",
    "                    # Calcular la varianza\n",
    "                    var_val = metric_highfreq(img_gray, ksize=ksize, filter_function=filter_function)\n",
    "                    \n",
    "                    # Para guardar la imagen con un contraste parecido al autoescalado de matplotlib:\n",
    "                    hf_min, hf_max = hf_img.min(), hf_img.max()\n",
    "                    if hf_max > hf_min:\n",
    "                        hf_scaled = (hf_img - hf_min) / (hf_max - hf_min) * 255.0\n",
    "                    else:\n",
    "                        # Si la imagen es prácticamente uniforme, no se puede escalar\n",
    "                        hf_scaled = hf_img.astype(np.float32)\n",
    "                    \n",
    "                    hf_scaled = hf_scaled.astype(np.uint8)\n",
    "                    \n",
    "                    # Construir el nombre de salida\n",
    "                    name, ext = os.path.splitext(filename)\n",
    "                    output_image_name = f\"{name}_high_frec\" + \"_\" + filter + \".png\"\n",
    "                    output_image_path = os.path.join(output_subfolder, output_image_name)\n",
    "                    \n",
    "                    # Guardar la imagen de alta frecuencia\n",
    "                    cv2.imwrite(output_image_path, hf_scaled)\n",
    "                    \n",
    "                    # Escribir en el txt la varianza obtenida\n",
    "                    line = f\"{filename} -> varianza alta frecuencia: {var_val:.3f}\\n\"\n",
    "                    f_txt.write(line)"
   ]
  },
  {
   "cell_type": "code",
   "execution_count": null,
   "metadata": {},
   "outputs": [],
   "source": [
    "process_all_images_in_folders(\n",
    "    input_root=\"images\",\n",
    "    output_root=\"images_high_frec\",\n",
    "    ksize=5,\n",
    "    filter=\"mean\"\n",
    ")\n",
    "print(\"Procesamiento completado.\")"
   ]
  }
 ],
 "metadata": {
  "kernelspec": {
   "display_name": "venv",
   "language": "python",
   "name": "python3"
  },
  "language_info": {
   "codemirror_mode": {
    "name": "ipython",
    "version": 3
   },
   "file_extension": ".py",
   "mimetype": "text/x-python",
   "name": "python",
   "nbconvert_exporter": "python",
   "pygments_lexer": "ipython3",
   "version": "3.12.6"
  }
 },
 "nbformat": 4,
 "nbformat_minor": 2
}
