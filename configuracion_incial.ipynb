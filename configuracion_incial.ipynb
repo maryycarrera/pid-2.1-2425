{
 "cells": [
  {
   "cell_type": "markdown",
   "metadata": {},
   "source": [
    "Vamos a comprobar si todas las importaciones funcionan correctamente. Para ello:\n",
    "\n",
    "1. Crea un entorno virtual (venv)\n",
    "2. Ejecuta `pip install -r requirements.txt` para instalar todas las dependencias necesarias\n",
    "3. Ejecuta `nbstripout --install` para activar el paquete que limpia los notebooks antes de subirlos al repositorio\n",
    "4. En la esquina superior derecha del notebook, selecciona el kernel correspondiente al entorno virtual que acabas de crear\n"
   ]
  },
  {
   "cell_type": "code",
   "execution_count": null,
   "metadata": {},
   "outputs": [],
   "source": [
    "import cv2\n",
    "import numpy as np\n",
    "import matplotlib.pyplot as plt\n"
   ]
  },
  {
   "cell_type": "markdown",
   "metadata": {},
   "source": [
    "Si el script anterior funcionó correctamente, significa que has creado y configurado \n",
    "el entorno virtual con éxito.\n",
    "\n",
    "A continuación, ejecutaremos una prueba de carga de imágenes para verificar que \n",
    "todo está funcionando correctamente."
   ]
  },
  {
   "cell_type": "code",
   "execution_count": null,
   "metadata": {},
   "outputs": [],
   "source": [
    "# Carga de imagen con OpenCV\n",
    "img = cv2.imread(\"./imagenes/000002/000002_blur.png\")  # Sustituye por la ruta a tu archivo\n",
    "\n",
    "# Comprobación de que se ha cargado correctamente\n",
    "if img is None:\n",
    "    print(\"Error al cargar la imagen. Revisa la ruta.\")\n",
    "else:\n",
    "    print(\"Imagen cargada correctamente.\")\n",
    "\n",
    "# OpenCV carga imágenes en BGR, así que convertimos a RGB para mostrarlas con Matplotlib\n",
    "img_rgb = cv2.cvtColor(img, cv2.COLOR_BGR2RGB)\n",
    "\n",
    "# Mostrar con Matplotlib\n",
    "plt.imshow(img_rgb)\n",
    "plt.title(\"Imagen de prueba\")\n",
    "plt.axis(\"off\")  # Quitar ejes para una visualización más limpia\n",
    "plt.show()"
   ]
  },
  {
   "cell_type": "markdown",
   "metadata": {},
   "source": [
    "Listo, estas preparado para empezar con el experimento"
   ]
  }
 ],
 "metadata": {
  "kernelspec": {
   "display_name": "venv",
   "language": "python",
   "name": "python3"
  },
  "language_info": {
   "codemirror_mode": {
    "name": "ipython",
    "version": 3
   },
   "file_extension": ".py",
   "mimetype": "text/x-python",
   "name": "python",
   "nbconvert_exporter": "python",
   "pygments_lexer": "ipython3",
   "version": "3.11.9"
  }
 },
 "nbformat": 4,
 "nbformat_minor": 2
}
