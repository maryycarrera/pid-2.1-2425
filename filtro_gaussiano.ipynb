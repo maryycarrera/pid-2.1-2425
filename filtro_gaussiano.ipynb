{
 "cells": [
  {
   "cell_type": "code",
   "execution_count": 1,
   "metadata": {},
   "outputs": [],
   "source": [
    "import cv2\n",
    "import numpy as np\n",
    "import matplotlib.pyplot as plt\n",
    "import os"
   ]
  },
  {
   "cell_type": "code",
   "execution_count": 2,
   "metadata": {},
   "outputs": [],
   "source": [
    "def cargar_imagen(ruta_imagen):\n",
    "    \"\"\"\n",
    "    Carga una imagen desde la ruta dada en BGR y la convierte a RGB para \n",
    "    visualizar con Matplotlib, además de la escala de grises.\n",
    "    Retorna:\n",
    "        - img_rgb: Imagen en formato RGB\n",
    "        - img_gray: Imagen original en escala de grises\n",
    "    \"\"\"\n",
    "    img_bgr = cv2.imread(ruta_imagen)\n",
    "    if img_bgr is None:\n",
    "        raise ValueError(f\"No se pudo cargar la imagen en la ruta: {ruta_imagen}\")\n",
    "\n",
    "    img_rgb = cv2.cvtColor(img_bgr, cv2.COLOR_BGR2RGB)\n",
    "    img_gray = cv2.cvtColor(img_bgr, cv2.COLOR_BGR2GRAY)\n",
    "    return img_rgb, img_gray"
   ]
  },
  {
   "cell_type": "code",
   "execution_count": 3,
   "metadata": {},
   "outputs": [],
   "source": [
    "def mostrar_imagen(img_rgb, titulo=\"Imagen\"):\n",
    "    \"\"\"\n",
    "    Muestra una imagen en RGB con Matplotlib.\n",
    "    \"\"\"\n",
    "    plt.imshow(img_rgb)\n",
    "    plt.title(titulo)\n",
    "    plt.axis(\"off\")\n",
    "    plt.show()"
   ]
  },
  {
   "cell_type": "code",
   "execution_count": 4,
   "metadata": {},
   "outputs": [],
   "source": [
    "def filtro_paso_alto_gaussiano(img_gray, ksize=5):\n",
    "    \"\"\"\n",
    "    Aplica un filtro de paso alto a la imagen en escala de grises (img_gray)\n",
    "    restando la versión suavizada (Gaussiana) de la imagen original.\n",
    "    Retorna la imagen realzada en altas frecuencias.\n",
    "\n",
    "    Parámetros:\n",
    "    - ksize: Tamaño del kernel del filtro Gaussiano (debe ser impar).\n",
    "    \"\"\"\n",
    "    # Paso bajo usando filtro Gaussiano\n",
    "    suavizada = cv2.GaussianBlur(img_gray, (ksize, ksize), 0)\n",
    "    # Paso alto = imagen original - imagen suavizada\n",
    "    altas_frec = cv2.subtract(img_gray, suavizada)\n",
    "    return altas_frec"
   ]
  },
  {
   "cell_type": "code",
   "execution_count": 5,
   "metadata": {},
   "outputs": [],
   "source": [
    "def medir_alta_frecuencia(img_gray, ksize=5, funcion_filtro=filtro_paso_alto_gaussiano):\n",
    "    \"\"\"\n",
    "    Calcula una medida de 'energía' (varianza) de la imagen de alta frecuencia.\n",
    "    Retorna la varianza resultante.\n",
    "    \"\"\"\n",
    "    hf = funcion_filtro(img_gray, ksize=ksize)\n",
    "    return np.var(hf)"
   ]
  },
  {
   "cell_type": "code",
   "execution_count": 6,
   "metadata": {},
   "outputs": [],
   "source": [
    "def procesar_imagenes_carpeta_gaussiano(\n",
    "    carpeta_entrada=\"images\",\n",
    "    carpeta_salida=\"images_alta_frecuencia\",\n",
    "    ksize=5\n",
    "):\n",
    "    \"\"\"\n",
    "    Recorre todas las subcarpetas dentro de 'carpeta_entrada'.\n",
    "    - Para cada archivo .png, aplica el filtro de paso alto Gaussiano.\n",
    "    - Guarda la imagen resultante en 'carpeta_salida', manteniendo la misma estructura.\n",
    "    - Genera un archivo .txt con la varianza de cada imagen procesada.\n",
    "\n",
    "    Parámetros:\n",
    "    - carpeta_entrada: ruta de la carpeta de entrada.\n",
    "    - carpeta_salida: ruta de la carpeta donde se guardarán los resultados.\n",
    "    - ksize: Tamaño del kernel para el filtro Gaussiano.\n",
    "    \"\"\"\n",
    "    # Crear la carpeta raíz de salida, si no existe\n",
    "    os.makedirs(carpeta_salida, exist_ok=True)\n",
    "\n",
    "    # Iterar sobre todas las subcarpetas de carpeta_entrada\n",
    "    for subcarpeta in sorted(os.listdir(carpeta_entrada)):\n",
    "        ruta_subcarpeta = os.path.join(carpeta_entrada, subcarpeta)\n",
    "        \n",
    "        # Verificamos si es una carpeta\n",
    "        if not os.path.isdir(ruta_subcarpeta):\n",
    "            continue\n",
    "        \n",
    "        # Crear subcarpeta de salida correspondiente\n",
    "        carpeta_salida_sub = os.path.join(carpeta_salida, subcarpeta)\n",
    "        # Añadimos la subcarpeta específica para 'gaussiano'\n",
    "        carpeta_salida_sub = os.path.join(carpeta_salida_sub, \"gaussiano\")\n",
    "        os.makedirs(carpeta_salida_sub, exist_ok=True)\n",
    "        \n",
    "        # Creamos un archivo TXT para guardar las varianzas\n",
    "        ruta_txt = os.path.join(carpeta_salida_sub, \"info_varianzas_gaussiano.txt\")\n",
    "        \n",
    "        with open(ruta_txt, \"w\", encoding=\"utf-8\") as archivo_txt:\n",
    "            archivo_txt.write(\"Varianzas de alta frecuencia (filtro gaussiano)\\n\")\n",
    "            archivo_txt.write(f\"Carpeta de imágenes: {ruta_subcarpeta}\\n\\n\")\n",
    "            archivo_txt.write(\"La varianza indica la dispersión de los valores de alta frecuencia.\\n\")\n",
    "            archivo_txt.write(\"Valores mayores suelen corresponder a más bordes y mayor nitidez.\\n\\n\")\n",
    "            \n",
    "            # Recorremos los archivos dentro de la subcarpeta\n",
    "            for filename in sorted(os.listdir(ruta_subcarpeta)):\n",
    "                if filename.lower().endswith(\".png\"):\n",
    "                    ruta_imagen_entrada = os.path.join(ruta_subcarpeta, filename)\n",
    "                    \n",
    "                    # Cargar imagen en escala de grises\n",
    "                    img_bgr = cv2.imread(ruta_imagen_entrada)\n",
    "                    if img_bgr is None:\n",
    "                        continue\n",
    "                    img_gray = cv2.cvtColor(img_bgr, cv2.COLOR_BGR2GRAY)\n",
    "                    \n",
    "                    # Filtro de paso alto Gaussiano\n",
    "                    altas_frec_img = filtro_paso_alto_gaussiano(img_gray, ksize=ksize)\n",
    "                    \n",
    "                    # Calcular varianza\n",
    "                    varianza = medir_alta_frecuencia(img_gray, ksize=ksize, funcion_filtro=filtro_paso_alto_gaussiano)\n",
    "                    \n",
    "                    # Escalado para guardar la imagen con mayor contraste\n",
    "                    hf_min, hf_max = altas_frec_img.min(), altas_frec_img.max()\n",
    "                    if hf_max > hf_min:\n",
    "                        altas_frec_escalada = (altas_frec_img - hf_min) / (hf_max - hf_min) * 255.0\n",
    "                    else:\n",
    "                        altas_frec_escalada = altas_frec_img.astype(np.float32)\n",
    "                        \n",
    "                    altas_frec_escalada = altas_frec_escalada.astype(np.uint8)\n",
    "                    \n",
    "                    # Construir ruta de salida\n",
    "                    nombre, extension = os.path.splitext(filename)\n",
    "                    nombre_salida = f\"{nombre}_alta_frecuencia_gaussiano.png\"\n",
    "                    ruta_imagen_salida = os.path.join(carpeta_salida_sub, nombre_salida)\n",
    "                    \n",
    "                    # Guardar imagen\n",
    "                    cv2.imwrite(ruta_imagen_salida, altas_frec_escalada)\n",
    "                    \n",
    "                    # Guardar resultado en el TXT\n",
    "                    archivo_txt.write(f\"{filename} -> varianza: {varianza:.3f}\\n\")\n",
    "\n",
    "    print(\"Procesamiento completado con filtro Gaussiano.\")"
   ]
  },
  {
   "cell_type": "code",
   "execution_count": 7,
   "metadata": {},
   "outputs": [
    {
     "name": "stdout",
     "output_type": "stream",
     "text": [
      "Procesamiento completado con filtro Gaussiano.\n"
     ]
    }
   ],
   "source": [
    "# Ejecuta el procesamiento\n",
    "procesar_imagenes_carpeta_gaussiano(\n",
    "    carpeta_entrada=\"images\",\n",
    "    carpeta_salida=\"images_high_frec\",\n",
    "    ksize=5\n",
    ")"
   ]
  }
 ],
 "metadata": {
  "kernelspec": {
   "display_name": ".venv",
   "language": "python",
   "name": "python3"
  },
  "language_info": {
   "codemirror_mode": {
    "name": "ipython",
    "version": 3
   },
   "file_extension": ".py",
   "mimetype": "text/x-python",
   "name": "python",
   "nbconvert_exporter": "python",
   "pygments_lexer": "ipython3",
   "version": "3.12.4"
  }
 },
 "nbformat": 4,
 "nbformat_minor": 2
}
