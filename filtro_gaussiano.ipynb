{
 "cells": [
  {
   "cell_type": "code",
   "execution_count": 1,
   "metadata": {},
   "outputs": [],
   "source": [
    "import cv2\n",
    "import numpy as np\n",
    "import os\n",
    "from utils import *\n",
    "import matplotlib.pyplot as plt\n"
   ]
  },
  {
   "cell_type": "markdown",
   "metadata": {},
   "source": [
    " ### 🎯 Filtro de paso alto utilizando suavizado Gaussiano\n",
    "\n",
    "Esta función `filtro_paso_alto_gaussiano` aplica un filtro de paso alto a una imagen en escala de grises. El objetivo es resaltar los detalles finos (alta frecuencia), como bordes y texturas.\n",
    "\n",
    "**¿Cómo funciona?**\n",
    "- Primero suaviza la imagen con un filtro Gaussiano (paso bajo).\n",
    "- Luego, resta esta versión suavizada de la imagen original. Esto elimina las bajas frecuencias (zonas uniformes) y conserva las altas (bordes y detalles).\n",
    "\n",
    "Este tipo de filtro es útil para análisis de nitidez, detección de bordes o estudios de textura."
   ]
  },
  {
   "cell_type": "code",
   "execution_count": 2,
   "metadata": {},
   "outputs": [],
   "source": [
    "def filtro_paso_alto_gaussiano(img_gray, ksize=5):\n",
    "    suavizada = cv2.GaussianBlur(img_gray, (ksize, ksize), 0)\n",
    "    return cv2.subtract(img_gray, suavizada)\n"
   ]
  },
  {
   "cell_type": "markdown",
   "metadata": {},
   "source": [
    "### 🗂️ Procesamiento masivo de imágenes con filtro Gaussiano\n",
    "\n",
    "Esta función `procesar_imagenes_carpeta_gaussiano` aplica el filtro de paso alto Gaussiano a todas las imágenes `.png` dentro de una estructura de carpetas.\n",
    "\n",
    "**Qué hace:**\n",
    "- Recorre subcarpetas dentro de una carpeta principal.\n",
    "- Aplica el filtro de paso alto a cada imagen.\n",
    "- Guarda las imágenes filtradas manteniendo la estructura original.\n",
    "- Calcula la varianza de cada imagen procesada y la guarda en un archivo `.txt`.\n",
    "\n",
    "**Utilidad:**\n",
    "Permite automatizar el análisis de alta frecuencia en un conjunto grande de imágenes, útil por ejemplo en evaluaciones de nitidez o comparativas de calidad visual.\n"
   ]
  },
  {
   "cell_type": "code",
   "execution_count": 3,
   "metadata": {},
   "outputs": [],
   "source": [
    "def procesar_imagenes_carpeta_gaussiano(\n",
    "    carpeta_entrada=\"images\",\n",
    "    carpeta_salida=\"images_procesadas\",\n",
    "    ksize=5\n",
    "):\n",
    "    # Crear la carpeta raíz de salida, si no existe\n",
    "    os.makedirs(carpeta_salida, exist_ok=True)\n",
    "\n",
    "    # Iterar sobre todas las subcarpetas de carpeta_entrada\n",
    "    for subcarpeta in sorted(os.listdir(carpeta_entrada)):\n",
    "        ruta_subcarpeta = os.path.join(carpeta_entrada, subcarpeta)\n",
    "\n",
    "        if not os.path.isdir(ruta_subcarpeta):\n",
    "            continue\n",
    "\n",
    "        carpeta_salida_sub = os.path.join(carpeta_salida, subcarpeta, \"gaussiano\")\n",
    "        os.makedirs(carpeta_salida_sub, exist_ok=True)\n",
    "\n",
    "        ruta_txt = os.path.join(carpeta_salida_sub, \"info_varianzas_gaussiano.txt\")\n",
    "        with open(ruta_txt, \"w\", encoding=\"utf-8\") as archivo_txt:\n",
    "            archivo_txt.write(\"Varianzas de alta frecuencia (filtro gaussiano)\\n\")\n",
    "            archivo_txt.write(f\"Carpeta de imágenes: {ruta_subcarpeta}\\n\\n\")\n",
    "            archivo_txt.write(\"La varianza indica la dispersión de los valores de alta frecuencia.\\n\")\n",
    "            archivo_txt.write(\"Valores mayores suelen corresponder a más bordes y mayor nitidez.\\n\\n\")\n",
    "\n",
    "            for filename in sorted(os.listdir(ruta_subcarpeta)):\n",
    "                if not filename.lower().endswith(\".png\"):\n",
    "                    continue\n",
    "\n",
    "                ruta_imagen_entrada = os.path.join(ruta_subcarpeta, filename)\n",
    "                img_bgr = cv2.imread(ruta_imagen_entrada)\n",
    "                if img_bgr is None:\n",
    "                    continue\n",
    "\n",
    "                img_gray = cv2.cvtColor(img_bgr, cv2.COLOR_BGR2GRAY)\n",
    "\n",
    "                # Aplicar filtro y calcular varianza en una sola vez\n",
    "                altas_frec_img = filtro_paso_alto_gaussiano(img_gray, ksize=ksize)\n",
    "                varianza = np.var(altas_frec_img)\n",
    "\n",
    "                # Normalizar imagen para guardarla con buen contraste\n",
    "                hf_min, hf_max = altas_frec_img.min(), altas_frec_img.max()\n",
    "                if hf_max > hf_min:\n",
    "                    altas_frec_escalada = ((altas_frec_img - hf_min) / (hf_max - hf_min) * 255).astype(np.uint8)\n",
    "                else:\n",
    "                    altas_frec_escalada = altas_frec_img.astype(np.uint8)\n",
    "\n",
    "                nombre, _ = os.path.splitext(filename)\n",
    "                nombre_salida = f\"{nombre}_alta_frecuencia_gaussiano.png\"\n",
    "                ruta_imagen_salida = os.path.join(carpeta_salida_sub, nombre_salida)\n",
    "\n",
    "                cv2.imwrite(ruta_imagen_salida, altas_frec_escalada)\n",
    "                archivo_txt.write(f\"{filename} -> varianza: {varianza:.3f}\\n\")\n",
    "\n",
    "    print(\"Procesamiento completado con filtro Gaussiano.\")\n"
   ]
  },
  {
   "cell_type": "code",
   "execution_count": 4,
   "metadata": {},
   "outputs": [
    {
     "name": "stdout",
     "output_type": "stream",
     "text": [
      "Procesamiento completado con filtro Gaussiano.\n"
     ]
    }
   ],
   "source": [
    "# Ejecuta el procesamiento\n",
    "\n",
    "procesar_imagenes_carpeta_gaussiano(\n",
    "    carpeta_entrada=\"images\",\n",
    "    carpeta_salida=\"images_procesadas\",\n",
    "    ksize=5\n",
    ")"
   ]
  }
 ],
 "metadata": {
  "kernelspec": {
   "display_name": "venv",
   "language": "python",
   "name": "python3"
  },
  "language_info": {
   "codemirror_mode": {
    "name": "ipython",
    "version": 3
   },
   "file_extension": ".py",
   "mimetype": "text/x-python",
   "name": "python",
   "nbconvert_exporter": "python",
   "pygments_lexer": "ipython3",
   "version": "3.11.9"
  }
 },
 "nbformat": 4,
 "nbformat_minor": 2
}
