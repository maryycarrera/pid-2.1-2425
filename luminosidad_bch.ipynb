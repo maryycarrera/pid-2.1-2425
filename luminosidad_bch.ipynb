{
 "cells": [
  {
   "cell_type": "code",
   "execution_count": null,
   "metadata": {},
   "outputs": [],
   "source": [
    "import cv2\n",
    "import numpy as np\n",
    "import os\n",
    "import matplotlib.pyplot as plt"
   ]
  },
  {
   "cell_type": "markdown",
   "metadata": {},
   "source": [
    "### MATRIZ BCH\n",
    "\n",
    "- Esta matríz se ha obtenido del artículo científico: `Brightness Calculation in Digital Image Processing` y nos ayudará a calcular el brillo de una imagen."
   ]
  },
  {
   "cell_type": "code",
   "execution_count": null,
   "metadata": {},
   "outputs": [],
   "source": [
    "MATRIZ_BCH = np.array([[0.2053, 0.7125, 0.4670],\n",
    "                        [1.8537, -1.2797, -0.4429],\n",
    "                        [-0.3655, 1.0120, -0.6014]])\n",
    "\n",
    "print(MATRIZ_BCH)"
   ]
  },
  {
   "cell_type": "markdown",
   "metadata": {},
   "source": [
    "### 🧮 Cálculo del Brillo utilizando la Métrica de Cohen  \n",
    "\n",
    "La función `obtener_brillo` calcula el brillo de una imagen a partir de sus componentes en el espacio de color XYZ, utilizando la métrica de Cohen basada en el modelo BCH (Brightness, Chroma, Hue).  \n",
    "\n",
    "**¿Cómo funciona?**  \n",
    "- Transformación BCH:  \n",
    "   - Se toma la imagen en sus componentes **X, Y, Z** (R, G, B) y se aplica la matriz auxiliar para obtener nuevas representaciones **D, E, F**.    \n",
    "\n",
    "- Cálculo brillo:\n",
    "   - A partir de los valores **D, E, F**, se calcula el brillo **B** como la norma euclidiana en este espacio:  \n",
    "     \n",
    "     ```math\n",
    "     B = \\sqrt{D^2 + E^2 + F^2}\n",
    "     ```\n",
    "   - Luego, se obtiene el **brillo promedio**  de toda la imagen.  \n"
   ]
  },
  {
   "cell_type": "code",
   "execution_count": null,
   "metadata": {},
   "outputs": [],
   "source": [
    "def calc_metricas_cohen(X, Y, Z):\n",
    "    alto, ancho = X.shape\n",
    "    # Stack y reshape en una matriz (N, 3)\n",
    "    pixels_xyz = np.stack([X, Y, Z], axis=-1).reshape(-1, 3)\n",
    "    # Aplicar la matriz BCH\n",
    "    cohen = pixels_xyz @ MATRIZ_BCH.T  # Resultado (N, 3)\n",
    "    return cohen.reshape(alto, ancho, 3)\n",
    "\n",
    "def obtener_brillo(X, Y, Z):\n",
    "    cohen = calc_metricas_cohen(X, Y, Z)\n",
    "    D, E, F = cohen[:, :, 0], cohen[:, :, 1], cohen[:, :, 2]\n",
    "    B = np.sqrt(D**2 + E**2 + F**2)\n",
    "    return B.mean()"
   ]
  },
  {
   "cell_type": "markdown",
   "metadata": {},
   "source": [
    "### 🧮 Obtener brillo imagen   \n",
    "\n",
    "La función `obtener_brillo_imagen` aplica las funciones creadas en la celda anterior y devuelve el valor del brillo.  \n",
    "\n",
    "**¿Cómo funciona?**  \n",
    "- Separa la imagen en RGB\n",
    "- Le pasa cada componente a la función obtener brillo\n",
    "- Devuelve el brillo de la imagen"
   ]
  },
  {
   "cell_type": "code",
   "execution_count": null,
   "metadata": {},
   "outputs": [],
   "source": [
    "def obtener_brillo_imagen(imagen_rgb):\n",
    "    R, G, B = cv2.split(imagen_rgb)\n",
    "    brillo = obtener_brillo(R, G, B)\n",
    "    return brillo"
   ]
  },
  {
   "cell_type": "markdown",
   "metadata": {},
   "source": [
    "### 🧮 Cargar imagen RGB   \n",
    "\n",
    "La función `cargar_imagen_rgb` es una función auxiliar que carga una imagen en rgb .  \n"
   ]
  },
  {
   "cell_type": "code",
   "execution_count": null,
   "metadata": {},
   "outputs": [],
   "source": [
    "def cargar_imagen_rgb(ruta):\n",
    "    img = cv2.imread(ruta)\n",
    "    if img is None:\n",
    "        raise FileNotFoundError(f\"No se pudo cargar la imagen: {ruta}\")\n",
    "    return cv2.cvtColor(img, cv2.COLOR_BGR2RGB)"
   ]
  },
  {
   "cell_type": "markdown",
   "metadata": {},
   "source": [
    "### 🗂️ Procesamiento masivo de imágenes calculo del brillo\n",
    "\n",
    "Esta función `procesar_imagenes_carpeta_bch` aplica la métrica de Cohen para calcular el brillo a todas las imágenes `.png` dentro de una estructura de carpetas.\n",
    "\n",
    "**Qué hace:**\n",
    "- Recorre subcarpetas dentro de una carpeta principal.\n",
    "- Carga la imagen en RGB.\n",
    "- Aplica la métrica de cohen para obtenter el brillo .\n",
    "- Guarda el valor del brillo obtenido en un archivo `.txt`."
   ]
  },
  {
   "cell_type": "code",
   "execution_count": null,
   "metadata": {},
   "outputs": [],
   "source": [
    "def procesar_imagenes_carpeta_bch(\n",
    "        carpeta_entrada=\"images\",\n",
    "        carpeta_salida=\"images_procesadas\"\n",
    "):\n",
    "    # Crear la carpeta raíz de salida, si no existe\n",
    "    os.makedirs(carpeta_salida, exist_ok=True)\n",
    "\n",
    "    # Iterar sobre todas las subcarpetas de carpeta_entrada\n",
    "    for subcarpeta in sorted(os.listdir(carpeta_entrada)):\n",
    "        ruta_subcarpeta = os.path.join(carpeta_entrada, subcarpeta)\n",
    "        \n",
    "        # Verificamos si es una carpeta\n",
    "        if not os.path.isdir(ruta_subcarpeta):\n",
    "            continue\n",
    "        \n",
    "        # Crear subcarpeta de salida correspondiente\n",
    "        carpeta_salida_sub = os.path.join(carpeta_salida, subcarpeta)\n",
    "\n",
    "        # Añadimos la subcarpeta específica para 'bch'\n",
    "        carpeta_salida_sub = os.path.join(carpeta_salida_sub, \"bch\")\n",
    "        os.makedirs(carpeta_salida_sub, exist_ok=True)\n",
    "        \n",
    "        # Creamos un archivo TXT para guardar los brillos\n",
    "        ruta_txt = os.path.join(carpeta_salida_sub, \"info_brillos_bch.txt\")\n",
    "\n",
    "        with open(ruta_txt, \"w\", encoding=\"utf-8\") as archivo_txt:\n",
    "            archivo_txt.write(\"Nivel de Brillo (método BCH)\\n\")\n",
    "            archivo_txt.write(f\"Carpeta de imágenes: {ruta_subcarpeta}\\n\\n\")\n",
    "            archivo_txt.write(\"Valores mayores corresponden a mayor brillo.\\n\\n\")\n",
    "            \n",
    "            # Recorremos los archivos dentro de la subcarpeta\n",
    "            for filename in sorted(os.listdir(ruta_subcarpeta)):\n",
    "                if filename.lower().endswith(\".png\"):\n",
    "                    ruta_imagen_entrada = os.path.join(ruta_subcarpeta, filename)\n",
    "                    \n",
    "                    # Cargar imagen en rgb\n",
    "                    img_rgb = cargar_imagen_rgb(ruta_imagen_entrada)\n",
    "                    \n",
    "                    # Calcular brillo\n",
    "                    brillo = obtener_brillo_imagen(img_rgb)\n",
    "                    \n",
    "                    # Guardar resultado en el TXT\n",
    "                    archivo_txt.write(f\"{filename} -> brillo: {brillo:.4f}\\n\")\n",
    "\n",
    "    print(\"Procesamiento completado con método BCH.\")"
   ]
  },
  {
   "cell_type": "code",
   "execution_count": null,
   "metadata": {},
   "outputs": [],
   "source": [
    "procesar_imagenes_carpeta_bch(\n",
    "    carpeta_entrada=\"images\",\n",
    "    carpeta_salida=\"images_procesadas\"\n",
    ")"
   ]
  },
  {
   "cell_type": "markdown",
   "metadata": {},
   "source": [
    "### 🧮 Modificar brillo de una imagen   \n",
    "\n",
    "La función `modificar_brillo` permite ajustar el brillo de una imagen.  \n",
    "\n",
    "**¿Cómo funciona?**  \n",
    "- Se determina un coeficiente al llamar a la función \n",
    "- Le pasa cada componente a la función obtener brillo\n",
    "- Devuelve el brillo de la imagen"
   ]
  },
  {
   "cell_type": "code",
   "execution_count": null,
   "metadata": {},
   "outputs": [],
   "source": [
    "# m= valores en el scrollbar entre 0.5 y 1.5 (modificar si vemos que aumenta/disminuye demasiado)\n",
    "\n",
    "def modificar_brillo(rgb, m0=1):\n",
    "    #algoritmo tv_based\n",
    "    rgb_nuevo = np.array([rgb[0] * m0, rgb[1] * m0, rgb[2] * m0])\n",
    "    return rgb_nuevo"
   ]
  },
  {
   "cell_type": "code",
   "execution_count": null,
   "metadata": {},
   "outputs": [],
   "source": [
    "def calcular_b_promedio(imagen_rgb, ventana=20):\n",
    "    # Convertir a espacio de color LAB\n",
    "    lab = cv2.cvtColor(imagen_rgb, cv2.COLOR_RGB2LAB)\n",
    "\n",
    "    # Extraer canal L (luminosidad)\n",
    "    luminosidad = lab[:,:,0].astype(np.float32)\n",
    "\n",
    "    # Calcular brillo promedio en el vecindario\n",
    "    kernel = np.ones((ventana, ventana), np.float32) / (ventana * ventana)\n",
    "    b_promedio = cv2.filter2D(luminosidad, -1, kernel) # -1 para que sea igual a la imagen de entrada\n",
    "\n",
    "    return b_promedio\n",
    "\n",
    "\n",
    "def mejora_contraste(imagen_rgb, k, ventana=20):\n",
    "    \"\"\"\n",
    "    Implementa la mejora de contraste preservando las coordenadas cromáticas\n",
    "    \"\"\"\n",
    "    # Convertir a float para cálculos\n",
    "    imagen_float = imagen_rgb.astype(np.float32) / 255.0\n",
    "    \n",
    "    # Convertir a espacio de color LAB\n",
    "    lab_img = cv2.cvtColor(imagen_float, cv2.COLOR_RGB2LAB)\n",
    "    \n",
    "    # Extraer canal L (luminosidad)\n",
    "    L = lab_img[:,:,0]\n",
    "    \n",
    "    # Calcular luminosidad promedio en el vecindario usando la imagen LAB\n",
    "    b_promedio = calcular_b_promedio(lab_img, ventana)\n",
    "    \n",
    "    # Aplicar la fórmula de mejora de contraste\n",
    "    epsilon = 1e-10\n",
    "    ratio = np.maximum(L / (b_promedio + epsilon), 0)\n",
    "    nuevo_L = b_promedio * np.power(ratio, k)\n",
    "    \n",
    "    # Limitar valores al rango válido\n",
    "    nuevo_L = np.clip(nuevo_L, 0, 100)\n",
    "    \n",
    "    # Reemplazar canal L\n",
    "    lab_img[:,:,0] = nuevo_L\n",
    "    \n",
    "    # Convertir de vuelta a RGB\n",
    "    resultado = cv2.cvtColor(lab_img, cv2.COLOR_LAB2RGB) * 255.0\n",
    "    \n",
    "    # Retornar como uint8\n",
    "    return np.clip(resultado, 0, 255).astype(np.uint8)"
   ]
  },
  {
   "cell_type": "code",
   "execution_count": null,
   "metadata": {},
   "outputs": [],
   "source": [
    "def procesar_imagenes_contraste(\n",
    "    carpeta_entrada=\"imagenes\",\n",
    "    carpeta_salida=\"imagenes_procesadas\",\n",
    "    valores_k=[0.5, 1.0, 1.5, 2.0]\n",
    "):\n",
    "\n",
    "    # Crear la carpeta raíz de salida, si no existe\n",
    "    os.makedirs(carpeta_salida, exist_ok=True)\n",
    "\n",
    "    # Iterar sobre todas las subcarpetas de carpeta_entrada\n",
    "    for subcarpeta in sorted(os.listdir(carpeta_entrada)):\n",
    "        ruta_subcarpeta = os.path.join(carpeta_entrada, subcarpeta)\n",
    "        \n",
    "        # Verificamos si es una carpeta\n",
    "        if not os.path.isdir(ruta_subcarpeta):\n",
    "            continue\n",
    "        \n",
    "        # Crear subcarpeta de salida correspondiente\n",
    "        carpeta_salida_sub = os.path.join(carpeta_salida, subcarpeta)\n",
    "        # Añadimos la subcarpeta específica para 'contraste'\n",
    "        carpeta_salida_sub = os.path.join(carpeta_salida_sub, \"contraste\")\n",
    "        os.makedirs(carpeta_salida_sub, exist_ok=True)\n",
    "                    \n",
    "        # Recorremos los archivos dentro de la subcarpeta\n",
    "        for filename in sorted(os.listdir(ruta_subcarpeta)):\n",
    "            if filename.lower().endswith(\"sharp.png\"):\n",
    "                ruta_imagen_entrada = os.path.join(ruta_subcarpeta, filename)\n",
    "\n",
    "                # Cargar imagen\n",
    "                img_rgb = cargar_imagen_rgb(ruta_imagen_entrada)\n",
    "                if img_rgb is None:\n",
    "                    continue\n",
    "                \n",
    "                nombre, extension = os.path.splitext(filename)\n",
    "                nombre_salida = f\"{nombre}_original.jpg\"\n",
    "                ruta_imagen_salida = os.path.join(carpeta_salida_sub, nombre_salida)\n",
    "                \n",
    "                # Convertir de RGB a BGR para guardar con OpenCV\n",
    "                img_bgr = cv2.cvtColor(img_rgb, cv2.COLOR_RGB2BGR)\n",
    "                cv2.imwrite(ruta_imagen_salida, img_bgr)\n",
    "\n",
    "                # Filtro\n",
    "                for k in valores_k:\n",
    "                    contraste_mejorado = mejora_contraste(img_rgb, k)\n",
    "                    \n",
    "                    nombre_salida = f\"{nombre}_k{k:.1f}.jpg\"\n",
    "                    ruta_imagen_salida = os.path.join(carpeta_salida_sub, nombre_salida)\n",
    "\n",
    "                    # Convertir de RGB a BGR para guardar con OpenCV\n",
    "                    contraste_mejorado_bgr = cv2.cvtColor(contraste_mejorado, cv2.COLOR_RGB2BGR)\n",
    "                    cv2.imwrite(ruta_imagen_salida, contraste_mejorado_bgr)\n",
    "\n",
    "    print(\"Procesamiento completado con mejora de contraste.\")"
   ]
  },
  {
   "cell_type": "code",
   "execution_count": null,
   "metadata": {},
   "outputs": [],
   "source": [
    "# Ejecuta el procesamiento\n",
    "procesar_imagenes_contraste(\n",
    "    carpeta_entrada=\"images\",\n",
    "    carpeta_salida=\"images_procesadas\",\n",
    "    valores_k=[0.5, 1.0, 1.5, 2.0]\n",
    ")"
   ]
  },
  {
   "cell_type": "code",
   "execution_count": null,
   "metadata": {},
   "outputs": [],
   "source": [
    "#Medir contraste\n",
    "def calcular_varianza_histograma(img_gray):\n",
    "    \"\"\"\n",
    "    Calcula la varianza en el histograma para saber el contraste de la imagen \n",
    "    Retorna:\n",
    "        - Varianza (dispersión de intensidades).\n",
    "    \"\"\"\n",
    "       \n",
    "    # Calcular histograma\n",
    "    hist = cv2.calcHist([img_gray], [0], None, [256], [0, 256]).flatten()\n",
    "    \n",
    "    total_pixeles = img_gray.size\n",
    "    valores = np.arange(256)                                                # Valores posibles de intensidad (0-255)\n",
    "    media = np.sum(valores * hist) / total_pixeles\n",
    "    varianza = np.sum(((valores - media) ** 2) * hist) / total_pixeles\n",
    "\n",
    "    return varianza"
   ]
  },
  {
   "cell_type": "code",
   "execution_count": null,
   "metadata": {},
   "outputs": [],
   "source": [
    "#comprobar bajo contraste y mejorar si es necesario\n",
    "def mejora_contraste_adaptativo(imagen, kk , k_inicial=1.0, incremento_k=0.1, ventana=20): #kk es el umbral de la varianza del hisograma, cuando se supere considera que una imagen tien buen contraste\n",
    "    \"\"\"\n",
    "    Mejora el contraste de una imagen si la varianza de su histograma es menor que kk.\n",
    "    Incrementa el parámetro k hasta que la varianza supere el umbral kk.\n",
    "    \"\"\"\n",
    "    imagen_procesada = imagen.copy()\n",
    "    k_actual = k_inicial\n",
    "    varianza_actual = calcular_varianza_histograma(imagen_procesada)\n",
    "    \n",
    "    while varianza_actual < kk:\n",
    "        imagen_procesada = mejora_contraste(imagen_procesada, k_actual, ventana)\n",
    "        varianza_actual = calcular_varianza_histograma(imagen_procesada)\n",
    "        k_actual += incremento_k\n",
    "        if k_actual > 3.0:  # Limitar el valor de k para evitar bucles infinitos\n",
    "            break\n",
    "    \n",
    "    return imagen_procesada"
   ]
  },
  {
   "cell_type": "code",
   "execution_count": null,
   "metadata": {},
   "outputs": [],
   "source": []
  }
 ],
 "metadata": {
  "kernelspec": {
   "display_name": "venv",
   "language": "python",
   "name": "python3"
  },
  "language_info": {
   "codemirror_mode": {
    "name": "ipython",
    "version": 3
   },
   "file_extension": ".py",
   "mimetype": "text/x-python",
   "name": "python",
   "nbconvert_exporter": "python",
   "pygments_lexer": "ipython3",
   "version": "3.11.9"
  }
 },
 "nbformat": 4,
 "nbformat_minor": 2
}
