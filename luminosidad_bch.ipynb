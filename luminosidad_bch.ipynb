{
 "cells": [
  {
   "cell_type": "code",
   "execution_count": null,
   "metadata": {},
   "outputs": [],
   "source": [
    "import cv2\n",
    "import numpy as np\n",
    "import os\n",
    "import matplotlib.pyplot as plt"
   ]
  },
  {
   "cell_type": "code",
   "execution_count": null,
   "metadata": {},
   "outputs": [],
   "source": [
    "MATRIZ_BCH = np.array([[0.2053, 0.7125, 0.4670],\n",
    "                        [1.8537, -1.2797, -0.4429],\n",
    "                        [-0.3655, 1.0120, -0.6014]])\n",
    "\n",
    "print(MATRIZ_BCH)"
   ]
  },
  {
   "cell_type": "code",
   "execution_count": null,
   "metadata": {},
   "outputs": [],
   "source": []
  },
  {
   "cell_type": "code",
   "execution_count": null,
   "metadata": {},
   "outputs": [],
   "source": [
    "def calc_metricas_cohen(X, Y, Z):\n",
    "    alto, ancho = X.shape\n",
    "    # Stack y reshape en una matriz (N, 3)\n",
    "    pixels_xyz = np.stack([X, Y, Z], axis=-1).reshape(-1, 3)\n",
    "    # Aplicar la matriz BCH\n",
    "    cohen = pixels_xyz @ MATRIZ_BCH.T  # Resultado (N, 3)\n",
    "    return cohen.reshape(alto, ancho, 3)\n",
    "\n",
    "def obtener_brillo(X, Y, Z):\n",
    "    cohen = calc_metricas_cohen(X, Y, Z)\n",
    "    D, E, F = cohen[:, :, 0], cohen[:, :, 1], cohen[:, :, 2]\n",
    "    B = np.sqrt(D**2 + E**2 + F**2)\n",
    "    return B.mean()"
   ]
  },
  {
   "cell_type": "code",
   "execution_count": null,
   "metadata": {},
   "outputs": [],
   "source": [
    "def obtener_brillo_imagen(imagen_rgb):\n",
    "    R, G, B = cv2.split(imagen_rgb)\n",
    "    brillo = obtener_brillo(R, G, B)\n",
    "    return brillo"
   ]
  },
  {
   "cell_type": "code",
   "execution_count": null,
   "metadata": {},
   "outputs": [],
   "source": [
    "def cargar_imagen_rgb(ruta):\n",
    "    img = cv2.imread(ruta)\n",
    "    if img is None:\n",
    "        raise FileNotFoundError(f\"No se pudo cargar la imagen: {ruta}\")\n",
    "    return cv2.cvtColor(img, cv2.COLOR_BGR2RGB)"
   ]
  },
  {
   "cell_type": "code",
   "execution_count": null,
   "metadata": {},
   "outputs": [],
   "source": [
    "def procesar_imagenes_carpeta_bch(\n",
    "        carpeta_entrada=\"imagenes\",\n",
    "        carpeta_salida=\"imagenes_brillo\"\n",
    "):\n",
    "    # Crear la carpeta raíz de salida, si no existe\n",
    "    os.makedirs(carpeta_salida, exist_ok=True)\n",
    "\n",
    "    # Iterar sobre todas las subcarpetas de carpeta_entrada\n",
    "    for subcarpeta in sorted(os.listdir(carpeta_entrada)):\n",
    "        ruta_subcarpeta = os.path.join(carpeta_entrada, subcarpeta)\n",
    "        \n",
    "        # Verificamos si es una carpeta\n",
    "        if not os.path.isdir(ruta_subcarpeta):\n",
    "            continue\n",
    "        \n",
    "        # Crear subcarpeta de salida correspondiente\n",
    "        carpeta_salida_sub = os.path.join(carpeta_salida, subcarpeta)\n",
    "\n",
    "        # Añadimos la subcarpeta específica para 'bch'\n",
    "        carpeta_salida_sub = os.path.join(carpeta_salida_sub, \"bch\")\n",
    "        os.makedirs(carpeta_salida_sub, exist_ok=True)\n",
    "        \n",
    "        # Creamos un archivo TXT para guardar los brillos\n",
    "        ruta_txt = os.path.join(carpeta_salida_sub, \"info_brillos_bch.txt\")\n",
    "\n",
    "        with open(ruta_txt, \"w\", encoding=\"utf-8\") as archivo_txt:\n",
    "            archivo_txt.write(\"Nivel de Brillo (método BCH)\\n\")\n",
    "            archivo_txt.write(f\"Carpeta de imágenes: {ruta_subcarpeta}\\n\\n\")\n",
    "            archivo_txt.write(\"Valores mayores corresponden a mayor brillo.\\n\\n\")\n",
    "            \n",
    "            # Recorremos los archivos dentro de la subcarpeta\n",
    "            for filename in sorted(os.listdir(ruta_subcarpeta)):\n",
    "                if filename.lower().endswith(\".png\"):\n",
    "                    ruta_imagen_entrada = os.path.join(ruta_subcarpeta, filename)\n",
    "                    \n",
    "                    # Cargar imagen en rgb\n",
    "                    img_rgb = cargar_imagen_rgb(ruta_imagen_entrada)\n",
    "                    \n",
    "                    # Calcular brillo\n",
    "                    brillo = obtener_brillo_imagen(img_rgb)\n",
    "                    \n",
    "                    # Guardar resultado en el TXT\n",
    "                    archivo_txt.write(f\"{filename} -> brillo: {brillo:.4f}\\n\")\n",
    "\n",
    "    print(\"Procesamiento completado con método BCH.\")"
   ]
  },
  {
   "cell_type": "code",
   "execution_count": null,
   "metadata": {},
   "outputs": [],
   "source": [
    "procesar_imagenes_carpeta_bch(\n",
    "    carpeta_entrada=\"images\",\n",
    "    carpeta_salida=\"imagenes_procesadas\"\n",
    ")"
   ]
  },
  {
   "cell_type": "code",
   "execution_count": null,
   "metadata": {},
   "outputs": [],
   "source": [
    "#m= valores en el scrollbar entre 0.5 y 1.5 (modificar si vemos que aumenta/disminuye demasiado)\n",
    "\n",
    "def modificar_brillo(rgb, m0):\n",
    "    #algoritmo tv_based\n",
    "    rgb_modified = np.array([rgb[0] * m0, rgb[1] * m0, rgb[2] * m0])\n",
    "    return rgb_modified"
   ]
  }
 ],
 "metadata": {
  "kernelspec": {
   "display_name": "venv",
   "language": "python",
   "name": "python3"
  },
  "language_info": {
   "codemirror_mode": {
    "name": "ipython",
    "version": 3
   },
   "file_extension": ".py",
   "mimetype": "text/x-python",
   "name": "python",
   "nbconvert_exporter": "python",
   "pygments_lexer": "ipython3",
   "version": "3.11.9"
  }
 },
 "nbformat": 4,
 "nbformat_minor": 2
}
