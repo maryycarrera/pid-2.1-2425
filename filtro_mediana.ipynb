{
 "cells": [
  {
   "cell_type": "code",
   "execution_count": 1,
   "metadata": {},
   "outputs": [],
   "source": [
    "import cv2\n",
    "import numpy as np\n",
    "import os\n",
    "from utils import *\n",
    "import matplotlib.pyplot as plt\n"
   ]
  },
  {
   "cell_type": "markdown",
   "metadata": {},
   "source": [
    "### 🧮 Filtro de paso alto utilizando suavizado con Mediana\n",
    "\n",
    "La función `filtro_paso_alto_mediana` aplica un filtro de paso alto a una imagen en escala de grises utilizando un suavizado con filtro **mediana**.\n",
    "\n",
    "**¿Cómo funciona?**\n",
    "- Primero suaviza la imagen usando un filtro de mediana, que reemplaza cada píxel por el valor mediano de sus vecinos.\n",
    "- Luego, se resta esta versión suavizada de la imagen original. Esto elimina las bajas frecuencias (zonas suaves) y conserva las altas (bordes y cambios bruscos).\n",
    "\n",
    "**Ventaja del filtro mediana:**\n",
    "- Es muy eficaz para eliminar ruido impulsivo (como el ruido \"sal y pimienta\").\n",
    "- A diferencia del filtro de la media o gaussiano, **preserva mejor los bordes**, lo cual lo hace útil cuando se necesita resaltar detalles sin distorsionar contornos importantes.\n",
    "\n",
    "Este filtro es ideal cuando se quiere detectar detalles sin verse tan afectado por el ruido."
   ]
  },
  {
   "cell_type": "code",
   "execution_count": 2,
   "metadata": {},
   "outputs": [],
   "source": [
    "def filtro_paso_alto_mediana(img_gray, ksize=5):\n",
    "    suavizada = cv2.medianBlur(img_gray, ksize)\n",
    "    return cv2.subtract(img_gray, suavizada)\n"
   ]
  },
  {
   "cell_type": "markdown",
   "metadata": {},
   "source": [
    "### 🗂️ Procesamiento masivo de imágenes con filtro de la Mediana\n",
    "\n",
    "La función `procesar_imagenes_carpeta_mediana` aplica un filtro de paso alto basado en el suavizado por mediana a todas las imágenes `.png` contenidas en una estructura de carpetas.\n",
    "\n",
    "**Qué hace:**\n",
    "- Recorre todas las subcarpetas de una carpeta principal.\n",
    "- Aplica el filtro de paso alto por mediana a cada imagen en escala de grises.\n",
    "- Guarda las imágenes procesadas respetando la estructura de carpetas.\n",
    "- Calcula la varianza de alta frecuencia de cada imagen y la guarda en un archivo `.txt`.\n",
    "\n",
    "**¿Por qué usar el filtro de mediana?**\n",
    "El filtro de mediana suaviza la imagen eliminando ruido tipo \"sal y pimienta\" sin distorsionar los bordes, lo que lo hace especialmente útil cuando se necesita conservar detalles importantes. Al restar esta imagen suavizada de la original, se obtienen las altas frecuencias de forma robusta.\n",
    "\n",
    "**Utilidad:**\n",
    "Este procesamiento es ideal para análisis de bordes y detección de detalles en presencia de ruido, facilitando comparaciones con otros tipos de filtrado como el gaussiano o el de la media.\n"
   ]
  },
  {
   "cell_type": "code",
   "execution_count": 3,
   "metadata": {},
   "outputs": [],
   "source": [
    "def procesar_imagenes_carpeta_mediana(\n",
    "    carpeta_entrada=\"images\",\n",
    "    carpeta_salida=\"images_procesadas\",\n",
    "    ksize=5\n",
    "):\n",
    "    os.makedirs(carpeta_salida, exist_ok=True)\n",
    "\n",
    "    for subcarpeta in sorted(os.listdir(carpeta_entrada)):\n",
    "        ruta_subcarpeta = os.path.join(carpeta_entrada, subcarpeta)\n",
    "        if not os.path.isdir(ruta_subcarpeta):\n",
    "            continue\n",
    "\n",
    "        carpeta_salida_sub = os.path.join(carpeta_salida, subcarpeta, \"mediana\")\n",
    "        os.makedirs(carpeta_salida_sub, exist_ok=True)\n",
    "\n",
    "        ruta_txt = os.path.join(carpeta_salida_sub, \"info_varianzas_mediana.txt\")\n",
    "        with open(ruta_txt, \"w\", encoding=\"utf-8\") as archivo_txt:\n",
    "            archivo_txt.write(\"Varianzas de alta frecuencia (filtro de la mediana)\\n\")\n",
    "            archivo_txt.write(f\"Carpeta de imágenes: {ruta_subcarpeta}\\n\\n\")\n",
    "            archivo_txt.write(\"La varianza indica la dispersión de los valores de alta frecuencia.\\n\")\n",
    "            archivo_txt.write(\"Valores mayores suelen corresponder a más bordes y mayor nitidez.\\n\\n\")\n",
    "\n",
    "            for filename in sorted(os.listdir(ruta_subcarpeta)):\n",
    "                if not filename.lower().endswith(\".png\"):\n",
    "                    continue\n",
    "\n",
    "                ruta_imagen_entrada = os.path.join(ruta_subcarpeta, filename)\n",
    "                img_bgr = cv2.imread(ruta_imagen_entrada)\n",
    "                if img_bgr is None:\n",
    "                    continue\n",
    "\n",
    "                img_gray = cv2.cvtColor(img_bgr, cv2.COLOR_BGR2GRAY)\n",
    "\n",
    "                # Aplicar filtro y calcular varianza\n",
    "                altas_frec_img = filtro_paso_alto_mediana(img_gray, ksize=ksize)\n",
    "                varianza = np.var(altas_frec_img)\n",
    "\n",
    "                # Normalización para mejorar contraste\n",
    "                hf_min, hf_max = altas_frec_img.min(), altas_frec_img.max()\n",
    "                if hf_max > hf_min:\n",
    "                    altas_frec_escalada = ((altas_frec_img - hf_min) / (hf_max - hf_min) * 255).astype(np.uint8)\n",
    "                else:\n",
    "                    altas_frec_escalada = altas_frec_img.astype(np.uint8)\n",
    "\n",
    "                nombre, _ = os.path.splitext(filename)\n",
    "                ruta_imagen_salida = os.path.join(carpeta_salida_sub, f\"{nombre}_alta_frecuencia_mediana.png\")\n",
    "\n",
    "                cv2.imwrite(ruta_imagen_salida, altas_frec_escalada)\n",
    "                archivo_txt.write(f\"{filename} -> varianza: {varianza:.3f}\\n\")\n",
    "\n",
    "    print(\"Procesamiento completado con filtro de la Mediana.\")\n"
   ]
  },
  {
   "cell_type": "code",
   "execution_count": 4,
   "metadata": {},
   "outputs": [
    {
     "name": "stdout",
     "output_type": "stream",
     "text": [
      "Procesamiento completado con filtro de la Mediana.\n"
     ]
    }
   ],
   "source": [
    "# Ejecuta el procesamiento\n",
    "procesar_imagenes_carpeta_mediana(\n",
    "    carpeta_entrada=\"images\",\n",
    "    carpeta_salida=\"images_procesadas\",\n",
    "    ksize=5\n",
    ")\n"
   ]
  }
 ],
 "metadata": {
  "kernelspec": {
   "display_name": "venv",
   "language": "python",
   "name": "python3"
  },
  "language_info": {
   "codemirror_mode": {
    "name": "ipython",
    "version": 3
   },
   "file_extension": ".py",
   "mimetype": "text/x-python",
   "name": "python",
   "nbconvert_exporter": "python",
   "pygments_lexer": "ipython3",
   "version": "3.11.9"
  }
 },
 "nbformat": 4,
 "nbformat_minor": 2
}
