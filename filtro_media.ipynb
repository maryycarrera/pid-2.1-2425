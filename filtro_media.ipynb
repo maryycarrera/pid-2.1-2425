{
 "cells": [
  {
   "cell_type": "markdown",
   "metadata": {},
   "source": []
  },
  {
   "cell_type": "markdown",
   "metadata": {},
   "source": [
    "### 🖼️ Función para cargar imagen en RGB y escala de grises\n",
    "\n",
    "Esta función `cargar_imagen` recibe la ruta de una imagen como entrada y devuelve dos versiones de la imagen:\n",
    "\n",
    "1. `img_rgb`: Imagen convertida al espacio de color RGB, ideal para mostrarla con `matplotlib`, ya que OpenCV carga las imágenes en formato BGR por defecto.\n",
    "2. `img_gray`: Imagen convertida a escala de grises, que es útil para aplicar filtros como el gaussiano (más eficiente en una sola capa de intensidad que en las 3 del color).\n",
    "\n",
    "También incluye una verificación para asegurarse de que la imagen fue cargada correctamente."
   ]
  },
  {
   "cell_type": "code",
   "execution_count": null,
   "metadata": {},
   "outputs": [],
   "source": [
    "import cv2\n",
    "import numpy as np\n",
    "import os\n",
    "from utils import *\n",
    "import matplotlib.pyplot as plt"
   ]
  },
  {
   "cell_type": "markdown",
   "metadata": {},
   "source": [
    "### 🧮 Filtro de paso alto utilizando suavizado con la Media\n",
    "\n",
    "La función `filtro_paso_alto_media` aplica un filtro de paso alto a una imagen en escala de grises utilizando un suavizado mediante la media (también conocido como filtro de caja o **box blur**).\n",
    "\n",
    "**¿Cómo funciona?**\n",
    "- Se suaviza la imagen aplicando un filtro de la media con un kernel cuadrado de tamaño `ksize`.\n",
    "- Luego, se resta esta imagen suavizada de la original. Esta operación elimina las zonas de baja frecuencia (regiones uniformes) y destaca las altas frecuencias (como bordes y cambios bruscos de intensidad).\n",
    "\n",
    "Este método es una alternativa simple al filtro Gaussiano para destacar detalles en imágenes, y suele ser computacionalmente más ligero, aunque menos preciso en la preservación de bordes suaves.\n"
   ]
  },
  {
   "cell_type": "code",
   "execution_count": null,
   "metadata": {},
   "outputs": [],
   "source": [
    "def filtro_paso_alto_media(img_gray, ksize=5):\n",
    "    suavizada = cv2.blur(img_gray, (ksize, ksize))\n",
    "    return cv2.subtract(img_gray, suavizada)"
   ]
  },
  {
   "cell_type": "markdown",
   "metadata": {},
   "source": [
    "### 🗂️ Procesamiento masivo de imágenes con filtro de la Media\n",
    "\n",
    "Esta función `procesar_imagenes_carpeta_media` aplica el filtro de paso alto basado en la media (box blur) a todas las imágenes `.png` dentro de una estructura de carpetas.\n",
    "\n",
    "**Qué hace:**\n",
    "- Recorre subcarpetas dentro de una carpeta principal.\n",
    "- Aplica el filtro de paso alto utilizando el suavizado por media a cada imagen.\n",
    "- Guarda las imágenes resultantes respetando la misma estructura de carpetas.\n",
    "- Calcula la varianza de cada imagen procesada y la guarda en un archivo `.txt`.\n",
    "\n",
    "**Utilidad:**\n",
    "Automatiza el análisis de contenido de alta frecuencia usando un filtro más simple y rápido que el Gaussiano, lo cual es útil para tareas preliminares de detección de bordes, análisis de textura o comparación entre filtros.\n"
   ]
  },
  {
   "cell_type": "code",
   "execution_count": null,
   "metadata": {},
   "outputs": [],
   "source": [
    "def procesar_imagenes_carpeta_media(\n",
    "    carpeta_entrada=\"images\",\n",
    "    carpeta_salida=\"images_procesadas\",\n",
    "    ksize=5\n",
    "):\n",
    "    os.makedirs(carpeta_salida, exist_ok=True)\n",
    "\n",
    "    for subcarpeta in sorted(os.listdir(carpeta_entrada)):\n",
    "        ruta_subcarpeta = os.path.join(carpeta_entrada, subcarpeta)\n",
    "\n",
    "        if not os.path.isdir(ruta_subcarpeta):\n",
    "            continue\n",
    "\n",
    "        carpeta_salida_sub = os.path.join(carpeta_salida, subcarpeta, \"media\")\n",
    "        os.makedirs(carpeta_salida_sub, exist_ok=True)\n",
    "\n",
    "        ruta_txt = os.path.join(carpeta_salida_sub, \"info_varianzas_media.txt\")\n",
    "        with open(ruta_txt, \"w\", encoding=\"utf-8\") as archivo_txt:\n",
    "            archivo_txt.write(\"Varianzas de alta frecuencia (filtro de la media)\\n\")\n",
    "            archivo_txt.write(f\"Carpeta de imágenes: {ruta_subcarpeta}\\n\\n\")\n",
    "            archivo_txt.write(\"La varianza indica la dispersión de los valores de alta frecuencia.\\n\")\n",
    "            archivo_txt.write(\"Valores mayores suelen corresponder a más bordes y mayor nitidez.\\n\\n\")\n",
    "\n",
    "            for filename in sorted(os.listdir(ruta_subcarpeta)):\n",
    "                if not filename.lower().endswith(\".png\"):\n",
    "                    continue\n",
    "\n",
    "                ruta_imagen_entrada = os.path.join(ruta_subcarpeta, filename)\n",
    "                img_bgr = cv2.imread(ruta_imagen_entrada)\n",
    "                if img_bgr is None:\n",
    "                    continue\n",
    "\n",
    "                img_gray = cv2.cvtColor(img_bgr, cv2.COLOR_BGR2GRAY)\n",
    "\n",
    "                # Aplicar filtro y calcular varianza en una sola vez\n",
    "                altas_frec_img = filtro_paso_alto_media(img_gray, ksize=ksize)\n",
    "                varianza = np.var(altas_frec_img)\n",
    "\n",
    "                # Normalizar para guardar con buen contraste\n",
    "                hf_min, hf_max = altas_frec_img.min(), altas_frec_img.max()\n",
    "                if hf_max > hf_min:\n",
    "                    altas_frec_escalada = ((altas_frec_img - hf_min) / (hf_max - hf_min) * 255).astype(np.uint8)\n",
    "                else:\n",
    "                    altas_frec_escalada = altas_frec_img.astype(np.uint8)\n",
    "\n",
    "                nombre, _ = os.path.splitext(filename)\n",
    "                nombre_salida = f\"{nombre}_alta_frecuencia_media.png\"\n",
    "                ruta_imagen_salida = os.path.join(carpeta_salida_sub, nombre_salida)\n",
    "\n",
    "                cv2.imwrite(ruta_imagen_salida, altas_frec_escalada)\n",
    "                archivo_txt.write(f\"{filename} -> varianza: {varianza:.3f}\\n\")\n",
    "\n",
    "    print(\"Procesamiento completado con filtro de la Media.\")\n"
   ]
  },
  {
   "cell_type": "code",
   "execution_count": null,
   "metadata": {},
   "outputs": [],
   "source": [
    "# Ejecuta el procesamiento\n",
    "procesar_imagenes_carpeta_media(\n",
    "    carpeta_entrada=\"images\",\n",
    "    carpeta_salida=\"images_procesadas\",\n",
    "    ksize=5\n",
    ")"
   ]
  }
 ],
 "metadata": {
  "kernelspec": {
   "display_name": "venv",
   "language": "python",
   "name": "python3"
  },
  "language_info": {
   "codemirror_mode": {
    "name": "ipython",
    "version": 3
   },
   "file_extension": ".py",
   "mimetype": "text/x-python",
   "name": "python",
   "nbconvert_exporter": "python",
   "pygments_lexer": "ipython3",
   "version": "3.11.9"
  }
 },
 "nbformat": 4,
 "nbformat_minor": 2
}
