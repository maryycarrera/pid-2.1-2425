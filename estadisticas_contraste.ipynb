{
 "cells": [
  {
   "cell_type": "code",
   "execution_count": null,
   "id": "0",
   "metadata": {},
   "outputs": [],
   "source": [
    "import os"
   ]
  },
  {
   "cell_type": "markdown",
   "id": "1",
   "metadata": {},
   "source": [
    "### 🧮 Calcular los aciertos del método\n",
    "\n",
    "La función `calcular_aciertos` evalúa si el método de cálculo de contraste implementado encuentra correctamente la imagen con el contraste más alto (estricto) y la imagen con el contraste más bajo (estricto) del grupo de imágenes procesado que se le indica en los parámetros."
   ]
  },
  {
   "cell_type": "code",
   "execution_count": null,
   "id": "2",
   "metadata": {},
   "outputs": [],
   "source": [
    "def calcular_aciertos(carpeta_entrada, subcarpeta):\n",
    "    aciertos = 0\n",
    "\n",
    "    ruta_archivo_info = os.path.join(carpeta_entrada, subcarpeta, \"contraste\", \"info_varianzas_contraste.txt\")\n",
    "\n",
    "    if not os.path.isfile(ruta_archivo_info):\n",
    "        print(f\"El archivo {ruta_archivo_info} no existe.\")\n",
    "        return 0\n",
    "\n",
    "    # Leer todas las líneas del archivo\n",
    "    with open(ruta_archivo_info, \"r\") as archivo:\n",
    "        lineas = archivo.readlines()\n",
    "\n",
    "    # Filtrar las líneas relevantes (que contienen \"->\")\n",
    "    lineas_relevantes = [linea for linea in lineas if \"->\" in linea]\n",
    "\n",
    "    # Extraer los valores numéricos de las líneas relevantes\n",
    "    valores = {}\n",
    "    for linea in lineas_relevantes:\n",
    "        partes = linea.split(\"->\")\n",
    "        if len(partes) == 2:\n",
    "            nombre_imagen = partes[0].strip()\n",
    "            valor = float(partes[1].split(\":\")[1].strip())\n",
    "            valores[nombre_imagen] = valor\n",
    "\n",
    "    # Verificar si el valor de la imagen \"high_contrast.png\" es el más alto y \"low_contrast.png\" es el más bajo\n",
    "    high_contrast_key = subcarpeta + \"_high_contrast.png\"\n",
    "    low_contrast_key = subcarpeta + \"_low_contrast.png\"\n",
    "\n",
    "    if high_contrast_key in valores and low_contrast_key in valores:\n",
    "        max_valor = max(valores.values())\n",
    "        min_valor = min(valores.values())\n",
    "\n",
    "        # Asegurarse de que los valores máximo y mínimo son estrictos\n",
    "        if list(valores.values()).count(max_valor) == 1 and valores[high_contrast_key] == max_valor:\n",
    "            aciertos += 1\n",
    "        if list(valores.values()).count(min_valor) == 1 and valores[low_contrast_key] == min_valor:\n",
    "            aciertos += 1\n",
    "\n",
    "    return aciertos"
   ]
  },
  {
   "cell_type": "markdown",
   "id": "3",
   "metadata": {},
   "source": [
    "### 🧮 Calcular el porcentaje de aciertos totales\n",
    "\n",
    "La función `calcular_estadísticas` itera sobre los grupos de imágenes procesados y los resultados obtenidos de dicho procesamiento, obteniendo los aciertos totales del método del cálculo del contraste que se está evaluando. Almacena el porcentaje de aciertos totales y el número de casos evaluados."
   ]
  },
  {
   "cell_type": "code",
   "execution_count": null,
   "id": "4",
   "metadata": {},
   "outputs": [],
   "source": [
    "def calcular_estadísticas():\n",
    "    carpeta_entrada = \"images_procesadas\"\n",
    "    carpeta_salida = \"evaluacion_metodos\"\n",
    "    archivo_salida = os.path.join(carpeta_salida, \"contraste_estadisticas.txt\")\n",
    "    \n",
    "    # Crear la carpeta raíz de salida, si no existe\n",
    "    os.makedirs(carpeta_salida, exist_ok=True)\n",
    "\n",
    "    # Inicializar contadores\n",
    "    aciertos = 0\n",
    "    total_casos = 0\n",
    "\n",
    "    # Iterar sobre todas las subcarpetas de carpeta_entrada\n",
    "    for subcarpeta in sorted(os.listdir(carpeta_entrada)):\n",
    "        aciertos += calcular_aciertos(carpeta_entrada, subcarpeta)\n",
    "        total_casos += 2\n",
    "\n",
    "    # Calcular porcentajes de aciertos\n",
    "    if total_casos > 0:\n",
    "        aciertos = (aciertos / total_casos) * 100\n",
    "    else:\n",
    "        print(\"No se encontraron imágenes para evaluar.\")\n",
    "        return\n",
    "\n",
    "    # Guardar resultados en el archivo de salida\n",
    "    with open(archivo_salida, \"w\", encoding=\"utf-8\") as archivo:\n",
    "        archivo.write(\"EVALUACIÓN DEL MÉTODO DEL CÁLCULO DEL CONTRASTE:\\n\")\n",
    "        archivo.write(\"================================================\\n\")\n",
    "        archivo.write(f\"Aciertos totales del cálculo del contraste: {aciertos:.2f}%\\n\")\n",
    "        archivo.write(f\"Total de casos evaluados: {total_casos}\\n\")\n",
    "    \n",
    "    print(\"Evaluación del cálculo del contraste completada.\")"
   ]
  },
  {
   "cell_type": "code",
   "execution_count": null,
   "id": "5",
   "metadata": {},
   "outputs": [],
   "source": [
    "calcular_estadísticas()"
   ]
  }
 ],
 "metadata": {
  "kernelspec": {
   "display_name": "venv",
   "language": "python",
   "name": "python3"
  },
  "language_info": {
   "codemirror_mode": {
    "name": "ipython",
    "version": 3
   },
   "file_extension": ".py",
   "mimetype": "text/x-python",
   "name": "python",
   "nbconvert_exporter": "python",
   "pygments_lexer": "ipython3",
   "version": "3.11.9"
  }
 },
 "nbformat": 4,
 "nbformat_minor": 5
}
