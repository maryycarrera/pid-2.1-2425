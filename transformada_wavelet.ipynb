{
 "cells": [
  {
   "cell_type": "code",
   "execution_count": null,
   "metadata": {},
   "outputs": [],
   "source": [
    "import cv2\n",
    "import numpy as np\n",
    "import pywt\n",
    "import os\n",
    "from scipy.ndimage import uniform_filter"
   ]
  },
  {
   "cell_type": "markdown",
   "metadata": {},
   "source": [
    " ### 🧮 Cálculo subbandas diagonales con wavelet\n",
    "\n",
    "Esta función `obtener_subbandas_diagonales` aplica la transformada de wavelet a una imagen en formato YCbCr y se queda con las subbandas diagonales (resultado de aplicar dos filtros de paso alto) de cada canal.\n",
    "\n",
    "**¿Cómo funciona?**\n",
    "- Separa la imagen en los 3 canales con `cv2.split(imagen_ycbcr)`\n",
    "- Primero calcula la transformada de wavelet de la imagen con `pywt.wavedec2()`. Esto devuelve aproximación (LL), subbandas verticales (LH), subbandas horizontales (HL) y subbandas diagonales (HH)\n",
    "- De estos 4 coeficientes, me quedo sólo con el diagonal."
   ]
  },
  {
   "cell_type": "code",
   "execution_count": null,
   "metadata": {},
   "outputs": [],
   "source": [
    "\n",
    "def obtener_subbandas_diagonales(imagen_ycbcr, wavelet='db1'):\n",
    "    \"\"\"\n",
    "    Aplica la transformada wavelet a cada canal de la imagen YCbCr y extrae las subbandas diagonales (HH).\n",
    "    \"\"\"\n",
    "    subbandas_HH = []\n",
    "    canales = cv2.split(imagen_ycbcr)                                # Separar los canales Y, Cb, Cr \n",
    "    for canal in canales:                                            #Recorro los canales \n",
    "        coeficientes = pywt.wavedec2(canal, wavelet=wavelet, level=1)# Wavedec2 descompone la imagen en coeficientes de aproximación (LL), horizontal(HL), vertical(LH) y diagonal (HH)\n",
    "        _, *detalles = coeficientes                                  # Extraer la subbanda diagonal (HH) en el nivel deseado\n",
    "        HH = detalles[0][2]                                          # Accedemos a la subbanda HH en el nivel seleccionado\n",
    "        subbandas_HH.append(HH)\n",
    "    \n",
    "    return subbandas_HH"
   ]
  },
  {
   "cell_type": "markdown",
   "metadata": {},
   "source": [
    " ### 🧮 Cálculo matrices MH_i\n",
    "\n",
    "Esta función `obtener_MH_i` obtiene matrices MH_i que eliminan el sesgo del contenido de alta frecuencia, \"limpia\" distorsiones o influencias no deseadas que provengan de las altas frecuencias de la imagen.\n",
    "\n",
    "**¿Cómo funciona?**\n",
    "- Se le pasa como parámetro una matriz de alta frecuencia (subbanda diagonal)\n",
    "- Calcula la media de cada bloque no solapado con la funcion auxiliar `blockwise_mean()`\n",
    "- A la matriz con el contenido de alta frecuencia se le resta la media de esos bloques y se queda con el valor absoluto para obtener la nueva matriz"
   ]
  },
  {
   "cell_type": "code",
   "execution_count": null,
   "metadata": {},
   "outputs": [],
   "source": [
    "def blockwise_mean(HH_i, block_size):\n",
    "    \"\"\"Calcula la media por bloques no solapados.\"\"\"\n",
    "    h, w = HH_i.shape\n",
    "    bs = block_size\n",
    "    # Recortar imagen para que encaje con múltiplos del block size\n",
    "    h_crop, w_crop = h - h % bs, w - w % bs\n",
    "    img_cropped = HH_i[:h_crop, :w_crop]\n",
    "    # Redimensionar y calcular la media por bloque\n",
    "    blocks = img_cropped.reshape(h_crop // bs, bs, w_crop // bs, bs).mean(axis=(1, 3))\n",
    "    # Expandir cada valor a su bloque original\n",
    "    expanded = np.kron(blocks, np.ones((bs, bs)))  # expandir para restar luego\n",
    "    # Rellenar para igualar tamaño original (útil en caso de que el tamaño de la imagen no sea dibisible por el tamaño del bloque)\n",
    "    block_mean_full = np.zeros_like(HH_i)\n",
    "    block_mean_full[:h_crop, :w_crop] = expanded\n",
    "    return block_mean_full\n",
    "\n",
    "def obtener_MH_i(HH_i, block_size):\n",
    "    \"\"\" Calcula MH para una subbanda de alta frecuencia H, restando la media de bloques NO solapados.\"\"\"\n",
    "    high_freq = HH_i\n",
    "    block_mean = blockwise_mean(high_freq, block_size)\n",
    "    return np.abs(high_freq - block_mean)"
   ]
  },
  {
   "cell_type": "markdown",
   "metadata": {},
   "source": [
    "### 🧮 Cálculo matrices S_i\n",
    "\n",
    "Esta función `obtener_S_i` calcula la desviación estándar local con el mismo tamaño de bloque para todo los bloques solapados.\n",
    "\n",
    "**¿Cómo funciona?**\n",
    "- Se le pasa como parámetro la matriz con el contenido de alta frecuencia \n",
    "- Calcula el promedio de los valores dentro de una ventana de tamaño \"block_size\" alrededor de un pixel. Cada uno de esos valores promedio se guardan en la matriz \"media\"\n",
    "- Repite con los valores de la matriz original al cuadrado\n",
    "- Calcula y devuelve una matriz donde cada valor reprensenta la desvaiación estándar local de cada bloque"
   ]
  },
  {
   "cell_type": "code",
   "execution_count": null,
   "metadata": {},
   "outputs": [],
   "source": [
    "def obtener_S_i(HH_i, block_size):\n",
    "    \"\"\"Calcula la desviación estándar local de bloques solapados.\"\"\"\n",
    "    media = uniform_filter(HH_i, size=block_size)  \n",
    "    media_sq = uniform_filter(HH_i**2, size=block_size)\n",
    "    return np.sqrt(np.maximum(media_sq - media**2, 0))"
   ]
  },
  {
   "cell_type": "markdown",
   "metadata": {},
   "source": [
    "### 🧮 Cálculo matriz T_canal\n",
    "\n",
    "Esta función `calcular_matriz_T` calcula la matriz T ayudándose de la matriz con el contenido de alta frecuencia \"MH_i\" y la matriz con la desviación estándar local \"S_i\".\n",
    "\n",
    "**¿Cómo funciona?**\n",
    "- Se le pasan ambas matrices como parámetros\n",
    "- Calcula el numerador y denominador según las fórmulas (4), (5) y (6) del artículo científico \"High Frequency Content based Stimulus for Perceptual Sharpness Assessment in Natural Images\"\n",
    "- Devuelve el resultado"
   ]
  },
  {
   "cell_type": "code",
   "execution_count": null,
   "metadata": {},
   "outputs": [],
   "source": [
    "def calcular_matriz_T(MH_I, S_I, alpha=1):\n",
    "    \"\"\"Calcula la matriz T dada MH_I y S_I\"\"\"\n",
    "    numerador = (MH_I ** alpha) * S_I\n",
    "    denominador = np.sum(S_I) if np.sum(S_I) != 0 else 1.0\n",
    "\n",
    "    return numerador / (denominador + 1e-8)  # evitar división por cero"
   ]
  },
  {
   "cell_type": "markdown",
   "metadata": {},
   "source": [
    "### 🧮 Obtener las matrices T de cada canal\n",
    "\n",
    "Esta función `obtener_matrices_T` calcula la matriz T de cada uno de los canales usando las funciones anteriormente descritas.\n",
    "\n",
    "**¿Cómo funciona?**\n",
    "- Se le pasa el contenido de alta frecuencia como parámetro\n",
    "- Calcula la matriz MH_i y S_i\n",
    "- Calcula la matriz T de cada canal\n",
    "- Devuelve las 3 matrices T"
   ]
  },
  {
   "cell_type": "code",
   "execution_count": null,
   "metadata": {},
   "outputs": [],
   "source": [
    "def obtener_matrices_T(SubbandasDiagonales, block_size = (8, 8), alpha=1):\n",
    "    \"\"\"\n",
    "    Aplica la fórmula a cada canal para obtener TY, TCb, TCr.\n",
    "    \"\"\"\n",
    "    T_out = []\n",
    "    for i in range(3):\n",
    "        #HH_subbandas[i] = HH_i.astype(np.float32)\n",
    "        MH_i = obtener_MH_i(SubbandasDiagonales[i], block_size) # 1) Calcular MH (bloques no ) \n",
    "        S_i = obtener_S_i(SubbandasDiagonales[i], block_size)   # 2) Calcular S (bloques superpuestos)      \n",
    "        T_i = calcular_matriz_T(MH_i, S_i, alpha)               # 3) Calcular T\n",
    "        T_out.append(T_i)\n",
    "\n",
    "    return T_out[0], T_out[1], T_out[2]  #Devuelve Ty, Tcb, Tcr"
   ]
  },
  {
   "cell_type": "markdown",
   "metadata": {},
   "source": [
    "### 🧮 Obtener estímulo total T\n",
    "\n",
    "Esta función `calcular_estimulo_total` hace la media de las matrices T de cada canal.\n",
    "\n",
    "**¿Cómo funciona?**\n",
    "- Se le pasan las matrices T de cada canal de la imagen\n",
    "- Hace la media y la devuelve"
   ]
  },
  {
   "cell_type": "code",
   "execution_count": null,
   "metadata": {},
   "outputs": [],
   "source": [
    "def calcular_estimulo_total(TY, TCb, TCr, alpha=1):\n",
    "    \"\"\"\n",
    "    Calcula el total stimulus T_S de la imagen usando la ecuación dada.\n",
    "    \"\"\"\n",
    "    suma = (TY + TCb + TCr) / 3     # Sumar las matrices de los tres canales\n",
    "    T_S = np.power(suma, 1/alpha)   # Calcular el total stimulus T_S\n",
    "    \n",
    "    return T_S"
   ]
  },
  {
   "cell_type": "markdown",
   "metadata": {},
   "source": [
    "### 🧮 Obtener mapa de nitidez bruto\n",
    "\n",
    "Esta función `calcular_Smap` calcula el mapa de nitidez bruto de la imagen aplicando la fórmula (8) del artículo científico \"High Frequency Content based Stimulus for Perceptual Sharpness Assessment in Natural Images\" \n",
    "\n",
    "**¿Cómo funciona?**\n",
    "- Se le pasa el estímulo total como parámetro\n",
    "- Aplica la fórmula y devuelve el mapa \n"
   ]
  },
  {
   "cell_type": "code",
   "execution_count": null,
   "metadata": {},
   "outputs": [],
   "source": [
    "def calcular_Smap(T_S, epsilon=1e-6):\n",
    "    \"\"\"\n",
    "    Calcula la matriz Smap (mapa de nitidez) utilizando la ecuación dada:\n",
    "    Smap(i, j) = abs[log(ε) + ε] / (abs[log(T_S(i, j)) + ε] + ε)\n",
    "    \"\"\"\n",
    "    # Numerador: abs(log(epsilon) + epsilon)\n",
    "    numerador = np.abs(np.log(epsilon) + epsilon)\n",
    "    denominador = np.abs(np.log(T_S + epsilon)+ epsilon) # Denominador: abs(log(T_S) + epsilon) + epsilon\n",
    "    # Calcular Smap\n",
    "    Smap = numerador / denominador\n",
    "    return Smap"
   ]
  },
  {
   "cell_type": "markdown",
   "metadata": {},
   "source": [
    "### 🧮 Obtener mapa de nitidez sin bordes\n",
    "\n",
    "Esta función `obtener_BSmap` descarta los bordes del mapa de nitidez (en función del tamaño del bloque) para eliminar el efecto borde; a este nuevo mapa se le llama bsmap\n",
    "\n",
    "**¿Cómo funciona?**\n",
    "- Se le pasa como parámetro el mapa de nitidez\n",
    "- Calcula el tamaño del borde a eliminar según el tamaño del bloque\n",
    "- Elimina ese borde y devuelve el mapa"
   ]
  },
  {
   "cell_type": "code",
   "execution_count": null,
   "metadata": {},
   "outputs": [],
   "source": [
    "def obtener_BSmap(Smap, block_size=8):\n",
    "    \"\"\"\n",
    "    Elimina el borde del mapa de nitidez (Smap) en función del tamaño del bloque.\n",
    "    \"\"\"\n",
    "    # El tamaño del borde a eliminar es block_size - 1 en cada dirección\n",
    "    border_size = block_size - 1\n",
    "    # Recortar el borde del Smap\n",
    "    BSmap = Smap[border_size:-border_size, border_size:-border_size] if border_size > 0 else Smap\n",
    "\n",
    "    return BSmap"
   ]
  },
  {
   "cell_type": "markdown",
   "metadata": {},
   "source": [
    "### 🧮 Obtener puntuación de calidad\n",
    "\n",
    "Esta función `obtener_calidad_imagen` obtiene la calidad de la nitidez de la imagen cogiendo el máximo valor de BSmap, el cual ha sido calculado con las funciones anteriores del notebook\n",
    "\n",
    "**¿Cómo funciona?**\n",
    "- Se le pasa como parámetro una imagen en YCbCr\n",
    "- Se obtienen las subbandas diagonales de cada canal mediante wavelet\n",
    "- Obtiene el estimulo total a través de las matrices T de cada canal \n",
    "- Calcula el mapa de nitidez (Smap) y le quita los bordes (BSmap)\n",
    "- Obtiene el valor máximo de BSmap y lo devuelve"
   ]
  },
  {
   "cell_type": "code",
   "execution_count": null,
   "metadata": {},
   "outputs": [],
   "source": [
    "def obtener_calidad_imagen(imagen_ycbcr, block_size = 8, epsilon=1e-6, alpha=1, wavelet='db1'):\n",
    "    \n",
    "    SubbandasDiagonales = obtener_subbandas_diagonales(imagen_ycbcr, wavelet)\n",
    "    TY, TCb, TCr = obtener_matrices_T(SubbandasDiagonales, block_size , alpha)\n",
    "    T_S = calcular_estimulo_total(TY, TCb, TCr, alpha)\n",
    "    Smap = calcular_Smap(T_S, epsilon)\n",
    "    BSmap = obtener_BSmap(Smap, block_size=8)\n",
    "    Qs = np.max(BSmap)\n",
    "    return Qs"
   ]
  },
  {
   "cell_type": "markdown",
   "metadata": {},
   "source": [
    "### 🗂️ Procesamiento masivo de imágenes con wavelet\n",
    "\n",
    "Esta función `procesar_imagenes_carpeta_wavelet` obtiene la puntuación de calidad siguiendo el método de obtención de contenido de alta frecuencia en una imagen usando la transformada de wavelet en todas la imagenes `.png` dentro de una estructura de carpetas. \n",
    "\n",
    "**Qué hace:**\n",
    "- Recorre subcarpetas dentro de una carpeta principal.\n",
    "- Genera la puntuacion de calidad de cada imagen.\n",
    "- Guarda la puntuacion de calidad de cada imagen en un archivo `.txt`."
   ]
  },
  {
   "cell_type": "code",
   "execution_count": null,
   "metadata": {},
   "outputs": [],
   "source": [
    "def procesar_imagenes_carpeta_wavelet(\n",
    "    carpeta_entrada=\"images\",\n",
    "    carpeta_salida=\"images_procesadas\",\n",
    "    wavelet='db1' #Tipo de wavelet\n",
    "):\n",
    "    \"\"\"\n",
    "    Recorre todas las subcarpetas dentro de 'carpeta_entrada'.\n",
    "    - Para cada archivo .png, aplica la transformada de wavelet\n",
    "    - Guarda la imagen resultante en 'carpeta_salida', manteniendo la misma estructura.\n",
    "    - Genera un archivo .txt con el valor de nitidez de cada imagen procesada.\n",
    "\n",
    "    Parámetros:\n",
    "    - carpeta_entrada: ruta de la carpeta de entrada.\n",
    "    - carpeta_salida: ruta de la carpeta donde se guardarán los resultados.\n",
    "    - wavelet: especifica el tipo de wavelet que se aplica, por defecto Daubechies de 1 nivel.\n",
    "    \n",
    "    \"\"\"\n",
    "    # Crear la carpeta raíz de salida, si no existe\n",
    "    os.makedirs(carpeta_salida, exist_ok=True)\n",
    "\n",
    "    # Iterar sobre todas las subcarpetas de carpeta_entrada\n",
    "    for subcarpeta in sorted(os.listdir(carpeta_entrada)):\n",
    "        ruta_subcarpeta = os.path.join(carpeta_entrada, subcarpeta)\n",
    "        \n",
    "        # Verificamos si es una carpeta\n",
    "        if not os.path.isdir(ruta_subcarpeta):\n",
    "            continue\n",
    "        \n",
    "        # Crear subcarpeta de salida correspondiente\n",
    "        carpeta_salida_sub = os.path.join(carpeta_salida, subcarpeta)\n",
    "        # Añadimos la subcarpeta específica para 'wavelet'\n",
    "        carpeta_salida_sub = os.path.join(carpeta_salida_sub, \"wavelet\")\n",
    "        os.makedirs(carpeta_salida_sub, exist_ok=True)\n",
    "        \n",
    "        # Creamos un archivo TXT para guardar las varianzas\n",
    "        ruta_txt = os.path.join(carpeta_salida_sub, \"info_nitidez_wavelet.txt\")\n",
    "        \n",
    "        with open(ruta_txt, \"w\", encoding=\"utf-8\") as archivo_txt:\n",
    "            archivo_txt.write(\"Calidad de la imagen usando la (Transformada de wavelet)\\n\")\n",
    "            archivo_txt.write(f\"Carpeta de imágenes: {ruta_subcarpeta}\\n\\n\")\n",
    "            archivo_txt.write(\"Un valor mayor corresponde a una mayot nitidez.\\n\\n\")\n",
    "            \n",
    "            # Recorremos los archivos dentro de la subcarpeta\n",
    "            for filename in sorted(os.listdir(ruta_subcarpeta)):\n",
    "                if filename.lower().endswith((\"sharp.png\", \"blur.png\", \"blur_gamma.png\")):\n",
    "                    ruta_imagen_entrada = os.path.join(ruta_subcarpeta, filename)\n",
    "                    \n",
    "                    # Cargar imagen en YCbCr\n",
    "                    img_bgr = cv2.imread(ruta_imagen_entrada)\n",
    "                    if img_bgr is None:\n",
    "                        continue\n",
    "                    img_YCbCr = cv2.cvtColor(img_bgr, cv2.COLOR_BGR2YCrCb)\n",
    "                    \n",
    "                    # Obtengo BSmap y quality score\n",
    "                    Qs= obtener_calidad_imagen(img_YCbCr, wavelet=wavelet)\n",
    "                \n",
    "                    archivo_txt.write(f\"{filename} -> Quality score: {Qs:.3f}\\n\")\n",
    "\n",
    "    print(\"Procesamiento completado con transformada de wavelet.\")"
   ]
  },
  {
   "cell_type": "code",
   "execution_count": null,
   "metadata": {},
   "outputs": [],
   "source": [
    "# Ejecuta el procesamiento\n",
    "procesar_imagenes_carpeta_wavelet(\n",
    "    carpeta_entrada=\"images\",\n",
    "    carpeta_salida=\"images_procesadas\",\n",
    ")"
   ]
  }
 ],
 "metadata": {
  "kernelspec": {
   "display_name": "venv",
   "language": "python",
   "name": "python3"
  },
  "language_info": {
   "codemirror_mode": {
    "name": "ipython",
    "version": 3
   },
   "file_extension": ".py",
   "mimetype": "text/x-python",
   "name": "python",
   "nbconvert_exporter": "python",
   "pygments_lexer": "ipython3",
   "version": "3.11.9"
  }
 },
 "nbformat": 4,
 "nbformat_minor": 2
}
