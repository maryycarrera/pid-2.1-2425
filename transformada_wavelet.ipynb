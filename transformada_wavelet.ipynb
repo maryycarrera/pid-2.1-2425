{
 "cells": [
  {
   "cell_type": "code",
   "execution_count": null,
   "metadata": {},
   "outputs": [],
   "source": [
    "import cv2\n",
    "import numpy as np\n",
    "import matplotlib.pyplot as plt\n",
    "import pywt\n",
    "import os"
   ]
  },
  {
   "cell_type": "markdown",
   "metadata": {},
   "source": [
    " ### 🧮 Calculo transformada de wavelet\n",
    "\n",
    "Esta función `wavelet_alta_frecuancia` aplica la transformada de wavelet a una imagen en escala de grises. El objetivo es poder obtener los coeficientes de alta frecuencia horizontal, vertical y diagonal \n",
    "\n",
    "**¿Cómo funciona?**\n",
    "- Primero calcula la transformada de wavelet de la imagen con `pywt.wavedec2()`.\n",
    "- Luego, en el resultado de la transformada me quedo solo con los coeficientes horizontal, vertical y diagonal, es decir, descarto el coeficiente de aproximación, ya que este devuelve baja frecuencia.\n",
    "\n",
    "Este tipo de filtro es útil para análisis de nitidez, detección de bordes o estudios de textura."
   ]
  },
  {
   "cell_type": "code",
   "execution_count": null,
   "metadata": {},
   "outputs": [],
   "source": [
    "def wavelet_alta_frecuancia(img_gray, wavelet='db1'):\n",
    "    \"\"\"\n",
    "    Aplica la Transformada Wavelet Discreta 2D a la imagen y devuelve los coeficientes de alta frecuencia.\n",
    "    \"\"\"\n",
    "    coeficientes = pywt.wavedec2(img_gray, wavelet=wavelet, level=1) #wavedec2 descompone la imagen en coeficientes de alta frecuencia; level indica qeu solo es una descomposición\n",
    "    coefs_alta_frecuencia = coeficientes[1:]  # Ignoramos el coeficiente de aproximación, ya que este devuelve baja frecuencia y no nos interesa\n",
    "    return coefs_alta_frecuencia # Devuelve coeficientes -->  [(horizontal), (vertical), (diagonal)]"
   ]
  },
  {
   "cell_type": "markdown",
   "metadata": {},
   "source": []
  },
  {
   "cell_type": "code",
   "execution_count": null,
   "metadata": {},
   "outputs": [],
   "source": [
    "def valor_nitidez_basado_coeficientes(coefs_alta_frecuencia):\n",
    "    \"\"\"\n",
    "    Calcula una métrica de nitidez basada en la media de los coeficientes de alta frecuencia.\n",
    "    \"\"\"\n",
    "    n_coef = 0\n",
    "    total_coef = 0\n",
    "\n",
    "    for i in coefs_alta_frecuencia:          # Recorro ceoficiente horizontal (LH), vertical (HL) y diagonal (HH)\n",
    "        for j in i:                          # Recorro la matriz de cada nivel \n",
    "            n_coef += j.size                 # Cuetno nº total de coeficientes en dicha matriz\n",
    "            total_coef += np.sum(np.abs(j))  # Sumo los coeficientes en absoluto\n",
    "\n",
    "    if n_coef == 0:                          #No divido por 0 en la media\n",
    "        return 0\n",
    "\n",
    "    return total_coef / n_coef               # Media"
   ]
  },
  {
   "cell_type": "markdown",
   "metadata": {},
   "source": [
    "### 🗂️ Procesamiento masivo de imágenes con wavelet\n",
    "\n",
    "Esta función `procesar_imagenes_carpeta_wavelet` aplica la transformada de wavelet para calcular los coeficientes de alta frecuencia horizontal, vertical y diagonal y calcula la media de estos coeficientes en todas la imagenes `.png` dentro de una estructura de carpetas. \n",
    "\n",
    "**Qué hace:**\n",
    "- Recorre subcarpetas dentro de una carpeta principal.\n",
    "- Genera el coeficiente vertical, horizontal y diagonal a cada imagen.\n",
    "- Calcula el valor medio de estos coeficientes. \n",
    "- Guarda las imágenes resultantes (horizontal, vertical y diagonal) respetando la misma estructura de carpetas.\n",
    "- Guarda la media de los coeficientes de cada imagen en un archivo `.txt`.\n",
    "\n",
    "**Utilidad:**\n",
    "Automatiza el análisis de contenido de alta frecuencia usando la transformada de wavelet, un método con mucha precisión ya que obtiene el contenido de alta frecuencia de tres fuentes (horizontal, vertical y diagonal)"
   ]
  },
  {
   "cell_type": "code",
   "execution_count": null,
   "metadata": {},
   "outputs": [],
   "source": [
    "def procesar_imagenes_carpeta_wavelet(\n",
    "    carpeta_entrada=\"images\",\n",
    "    carpeta_salida=\"images_high_frec\",\n",
    "    wavelet='db1' #Tipo de wavelet\n",
    "):\n",
    "    \"\"\"\n",
    "    Recorre todas las subcarpetas dentro de 'carpeta_entrada'.\n",
    "    - Para cada archivo .png, aplica la transformada de wavelet\n",
    "    - Guarda la imagen resultante en 'carpeta_salida', manteniendo la misma estructura.\n",
    "    - Genera un archivo .txt con el valor de nitidez de cada imagen procesada.\n",
    "\n",
    "    Parámetros:\n",
    "    - carpeta_entrada: ruta de la carpeta de entrada.\n",
    "    - carpeta_salida: ruta de la carpeta donde se guardarán los resultados.\n",
    "    - wavelet: especifica el tipo de wavelet que se aplica, por defecto Daubechies de 1 nivel.\n",
    "    \n",
    "    \"\"\"\n",
    "    # Crear la carpeta raíz de salida, si no existe\n",
    "    os.makedirs(carpeta_salida, exist_ok=True)\n",
    "\n",
    "    # Iterar sobre todas las subcarpetas de carpeta_entrada\n",
    "    for subcarpeta in sorted(os.listdir(carpeta_entrada)):\n",
    "        ruta_subcarpeta = os.path.join(carpeta_entrada, subcarpeta)\n",
    "        \n",
    "        # Verificamos si es una carpeta\n",
    "        if not os.path.isdir(ruta_subcarpeta):\n",
    "            continue\n",
    "        \n",
    "        # Crear subcarpeta de salida correspondiente\n",
    "        carpeta_salida_sub = os.path.join(carpeta_salida, subcarpeta)\n",
    "        # Añadimos la subcarpeta específica para 'wavelet'\n",
    "        carpeta_salida_sub = os.path.join(carpeta_salida_sub, \"wavelet\")\n",
    "        os.makedirs(carpeta_salida_sub, exist_ok=True)\n",
    "        \n",
    "        # Creamos un archivo TXT para guardar las varianzas\n",
    "        ruta_txt = os.path.join(carpeta_salida_sub, \"info_nitidez_wavelet.txt\")\n",
    "        \n",
    "        with open(ruta_txt, \"w\", encoding=\"utf-8\") as archivo_txt:\n",
    "            archivo_txt.write(\"Coeficientes de alta frecuencia (Transformada de wavelet)\\n\")\n",
    "            archivo_txt.write(f\"Carpeta de imágenes: {ruta_subcarpeta}\\n\\n\")\n",
    "            archivo_txt.write(\"Valores mayores suelen corresponder a más bordes y mayor nitidez.\\n\\n\")\n",
    "            \n",
    "            # Recorremos los archivos dentro de la subcarpeta\n",
    "            for filename in sorted(os.listdir(ruta_subcarpeta)):\n",
    "                if filename.lower().endswith(\".png\"):\n",
    "                    ruta_imagen_entrada = os.path.join(ruta_subcarpeta, filename)\n",
    "                    \n",
    "                    # Cargar imagen en escala de grises\n",
    "                    img_bgr = cv2.imread(ruta_imagen_entrada)\n",
    "                    if img_bgr is None:\n",
    "                        continue\n",
    "                    img_gray = cv2.cvtColor(img_bgr, cv2.COLOR_BGR2GRAY)\n",
    "                    \n",
    "                    # Obtengo coeficientes de alta frecuencia usando transformada de wavelet \n",
    "                    coeficientes_alta_frecuencia = wavelet_alta_frecuancia(img_gray, wavelet=wavelet)\n",
    "                    \n",
    "                    # Calcular valor medio de los coeficientes \n",
    "            \n",
    "                    coef_medio = valor_nitidez_basado_coeficientes(coeficientes_alta_frecuencia) \n",
    "                    \n",
    "                    # Guardar imágenes de los coeficientes de alta frecuencia\n",
    "\n",
    "                    nombre_salida = os.path.splitext(filename)[0]  # Nombre imagen sin .png\n",
    "                    nombre_imagen = ['LH_Horizontal', 'HL_Vertical Detail', 'HH_Diagonal Detail']\n",
    "                    for i, coef in enumerate(coeficientes_alta_frecuencia[0]): #i = indice; coef = matrices LH, HL, HH\n",
    "\n",
    "                        coef_frecuencias_escalada = np.abs(coef).astype(np.uint8)   # Crear una nueva imagen para cada coeficiente\n",
    "                                                                                    # Construir ruta de salida para cada coeficiente\n",
    "                        ruta_imagen_salida = os.path.join(carpeta_salida_sub, f\"{nombre_salida}_{nombre_imagen[i].replace(' ', '_')}.png\")\n",
    "                        \n",
    "                        # Guardar imagen del coeficiente\n",
    "                        cv2.imwrite(ruta_imagen_salida, coef_frecuencias_escalada)\n",
    "\n",
    "                    # Guardar resultado en el TXT\n",
    "                    archivo_txt.write(f\"{filename} -> Coeficiente medio: {coef_medio:.3f}\\n\")\n",
    "\n",
    "    print(\"Procesamiento completado con transformada de wavelet.\")"
   ]
  },
  {
   "cell_type": "code",
   "execution_count": null,
   "metadata": {},
   "outputs": [],
   "source": [
    "# Ejecuta el procesamiento\n",
    "procesar_imagenes_carpeta_wavelet(\n",
    "    carpeta_entrada=\"imagenes\",\n",
    "    carpeta_salida=\"imagenes_procesadas\",\n",
    ")"
   ]
  }
 ],
 "metadata": {
  "kernelspec": {
   "display_name": "venv",
   "language": "python",
   "name": "python3"
  },
  "language_info": {
   "codemirror_mode": {
    "name": "ipython",
    "version": 3
   },
   "file_extension": ".py",
   "mimetype": "text/x-python",
   "name": "python",
   "nbconvert_exporter": "python",
   "pygments_lexer": "ipython3",
   "version": "3.12.8"
  }
 },
 "nbformat": 4,
 "nbformat_minor": 2
}
