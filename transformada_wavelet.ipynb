{
 "cells": [
  {
   "cell_type": "code",
   "execution_count": 1,
   "metadata": {},
   "outputs": [],
   "source": [
    "import cv2\n",
    "import numpy as np\n",
    "import matplotlib.pyplot as plt\n",
    "import pywt\n",
    "import os"
   ]
  },
  {
   "cell_type": "code",
   "execution_count": 11,
   "metadata": {},
   "outputs": [],
   "source": [
    "\n",
    "def obtener_subbandas_diagonales(imagen_ycbcr, wavelet='db1'):\n",
    "    \"\"\"\n",
    "    Aplica la transformada wavelet a cada canal de la imagen YCbCr y extrae las subbandas diagonales (HH).\n",
    "\n",
    "    :param imagen_ycbcr: Imagen en formato YCbCr (NumPy array).\n",
    "    :return: Lista con las subbandas diagonales (HH) de los canales [Y_HH, Cb_HH, Cr_HH].\n",
    "    \"\"\"\n",
    "    subbandas_HH = []\n",
    "    canales = cv2.split(imagen_ycbcr)  # Separar los canales Y, Cb, Cr \n",
    "\n",
    "    for canal in canales:               #Recorro los canales \n",
    "        coeficientes = pywt.wavedec2(canal, wavelet=wavelet, level=1)# Wavedec2 descompone la imagen en coeficientes de aproximación (LL), horizontal(HL), vertical(LH) y diagonal (HH)\n",
    "        _, *detalles = coeficientes # Extraer la subbanda diagonal (HH) en el nivel deseado\n",
    "        HH = detalles[0][2]  # Accedemos a la subbanda HH en el nivel seleccionado\n",
    "        subbandas_HH.append(HH)\n",
    "    \n",
    "    return subbandas_HH\n"
   ]
  },
  {
   "cell_type": "code",
   "execution_count": 34,
   "metadata": {},
   "outputs": [],
   "source": [
    "def calcular_matrices_T(imagen_ycbcr, alpha=1, block_size=8):\n",
    "    \"\"\"\n",
    "    Calcula las matrices TY, TCb y TCr utilizando la ecuación dada.\n",
    "    :param imagen_ycbcr: Imagen original en YCbCr.\n",
    "    :param alpha: Parámetro de ponderación.\n",
    "    :param block_size: Tamaño de bloque para el cálculo de la media y desviación estándar local.\n",
    "    :return: Matrices TY, TCb, TCr.\n",
    "    \"\"\"\n",
    "    MH = []  # Matrices de alta frecuencia ajustadas\n",
    "    S = []   # Matrices de desviación estándar\n",
    "    T = []   # Matrices de salida TY, TCb, TCr\n",
    "    HH_subbandas = obtener_subbandas_diagonales(imagen_ycbcr, wavelet='db1')\n",
    "\n",
    "    # Separar los canales de la imagen\n",
    "    canales = cv2.split(imagen_ycbcr)\n",
    "    \n",
    "    for i in range(3):\n",
    "        H = HH_subbandas[i]\n",
    "        canal = canales[i]\n",
    "        \n",
    "        # Calcular la media de bloques no superpuestos\n",
    "        mean_filter = np.ones((block_size, block_size)) / (block_size ** 2)\n",
    "        mean_H = cv2.filter2D(H, -1, mean_filter)\n",
    "        MH_i = np.abs(H - mean_H)                                              #La matriz tiene menos tamaño que la imagen original ya que se divide en bloques\n",
    "        MH.append(MH_i)\n",
    "        \n",
    "        # Calcular la desviación estándar local\n",
    "        mean_canal = cv2.filter2D(canal.astype(float), -1, mean_filter)\n",
    "        std_canal = np.sqrt(cv2.filter2D((canal - mean_canal) ** 2, -1, mean_filter))\n",
    "        std_canal = cv2.resize(std_canal, (MH_i.shape[1], MH_i.shape[0]), interpolation=cv2.INTER_NEAREST) #Ajusto el tamaño \n",
    "\n",
    "        S.append(std_canal)\n",
    "       \n",
    "        # Calcular la matriz T según la ecuación del árticulo científico\n",
    "        numerador = (MH_i ** alpha) * std_canal\n",
    "        denominador = np.sum(std_canal) if np.sum(std_canal) != 0 else 1\n",
    "        T_i = numerador / denominador\n",
    "        T.append(T_i)\n",
    "        \n",
    "    \n",
    "    return T[0], T[1], T[2]  # TY, TCb, TCr\n",
    "\n"
   ]
  },
  {
   "cell_type": "code",
   "execution_count": 38,
   "metadata": {},
   "outputs": [],
   "source": [
    "def calcular_estimulo_total(TY, TCb, TCr, alpha=1):\n",
    "    \"\"\"\n",
    "    Calcula el total stimulus T_S de la imagen usando la ecuación dada.\n",
    "    \"\"\"\n",
    "    suma = (TY + TCb + TCr) / 3     # Sumar las matrices de los tres canales\n",
    "    T_S = np.power(suma, 1/alpha)   # Calcular el total stimulus T_S\n",
    "    \n",
    "    return T_S"
   ]
  },
  {
   "cell_type": "code",
   "execution_count": null,
   "metadata": {},
   "outputs": [],
   "source": [
    "def calcular_Smap(T_S, epsilon=1e-6):\n",
    "    \"\"\"\n",
    "    Calcula la matriz Smap (mapa de nitidez) utilizando la ecuación dada:\n",
    "    Smap(i, j) = abs[log(ε) + ε] / (abs[log(T_S(i, j)) + ε] + ε)\n",
    "    \"\"\"\n",
    "    # Numerador: abs(log(epsilon) + epsilon)\n",
    "    numerador = np.abs(np.log(epsilon) + epsilon)\n",
    "    denominador = np.abs(np.log(T_S + epsilon)+ epsilon) # Denominador: abs(log(T_S) + epsilon) + epsilon\n",
    "    # Calcular Smap\n",
    "    Smap = numerador / denominador\n",
    "    return Smap"
   ]
  },
  {
   "cell_type": "code",
   "execution_count": null,
   "metadata": {},
   "outputs": [],
   "source": [
    "def obtener_BSmap(Smap, block_size=8):\n",
    "    \"\"\"\n",
    "    Elimina el borde del mapa de nitidez (Smap) en función del tamaño del bloque.\n",
    "    \"\"\"\n",
    "    # El tamaño del borde a eliminar es block_size - 1 en cada dirección\n",
    "    border_size = block_size - 1\n",
    "    # Recortar el borde del Smap\n",
    "    BSmap = Smap[border_size:-border_size, border_size:-border_size] if border_size > 0 else Smap\n",
    "\n",
    "    return BSmap"
   ]
  },
  {
   "cell_type": "code",
   "execution_count": 46,
   "metadata": {},
   "outputs": [
    {
     "name": "stdout",
     "output_type": "stream",
     "text": [
      "[[1.00370157 1.09292556 1.00270774 ... 1.00970469 1.00852727 1.0058809 ]\n",
      " [1.00396148 1.00413238 1.10243359 ... 1.00946396 1.00836568 1.00572285]\n",
      " [1.00544387 1.09343891 1.0028022  ... 1.00789202 1.00622379 1.00388402]\n",
      " ...\n",
      " [1.43818915 1.2560771  1.34242874 ... 1.07573879 1.00700196 1.00662294]\n",
      " [1.1262043  1.12269198 1.27804786 ... 1.10788049 1.0413621  1.09543219]\n",
      " [1.15021191 1.14769333 1.03416703 ... 1.046097   1.04440633 1.01557293]]\n"
     ]
    }
   ],
   "source": [
    "# Ejemplo de uso\n",
    "imagen_ycbcr = cv2.imread(\"000002_sharp.png\") # Cargar imagen YCbCr\n",
    "TY, TCb, TCr = calcular_matrices_T(imagen_ycbcr)\n",
    "T_S = calcular_estimulo_total(TY, TCb, TCr)\n",
    "Smap = calcular_Smap(T_S)\n",
    "print(Smap)\n"
   ]
  },
  {
   "cell_type": "code",
   "execution_count": null,
   "metadata": {},
   "outputs": [
    {
     "name": "stdout",
     "output_type": "stream",
     "text": [
      "[[ 0.00000000e+00 -5.00000000e-01  0.00000000e+00 ...  0.00000000e+00\n",
      "   0.00000000e+00  0.00000000e+00]\n",
      " [ 0.00000000e+00  0.00000000e+00 -5.00000000e-01 ...  0.00000000e+00\n",
      "   0.00000000e+00  0.00000000e+00]\n",
      " [ 0.00000000e+00  5.00000000e-01  0.00000000e+00 ...  0.00000000e+00\n",
      "   0.00000000e+00  0.00000000e+00]\n",
      " ...\n",
      " [ 5.00000000e-01 -5.00000000e-01 -1.50000000e+00 ... -5.00000000e-01\n",
      "   0.00000000e+00  0.00000000e+00]\n",
      " [ 0.00000000e+00  0.00000000e+00  5.00000000e-01 ...  5.00000000e-01\n",
      "  -5.00000000e-01 -5.00000000e-01]\n",
      " [ 0.00000000e+00  0.00000000e+00  0.00000000e+00 ...  5.00000000e-01\n",
      "   1.01030295e-14  0.00000000e+00]]\n"
     ]
    }
   ],
   "source": [
    "\n",
    "# Cargar imagen en BGR y convertir a YCbCr\n",
    "imagen_bgr = cv2.imread(\"000002_sharp.png\")\n",
    "imagen_ycbcr = cv2.cvtColor(imagen_bgr, cv2.COLOR_BGR2YCrCb)\n",
    "\n",
    "# Obtener las subbandas diagonales\n",
    "Y_HH, Cb_HH, Cr_HH = obtener_subbandas_diagonales(imagen_ycbcr)\n",
    "# Mostrar las subbandas diagonales\n",
    "cv2.imshow(\"Y_HH\", np.uint8(np.abs(Y_HH)))\n",
    "cv2.imshow(\"Cb_HH\", np.uint8(np.abs(Cb_HH)))\n",
    "cv2.imshow(\"Cr_HH\", np.uint8(np.abs(Cr_HH)))\n",
    "cv2.waitKey(0)\n",
    "cv2.destroyAllWindows()"
   ]
  },
  {
   "cell_type": "code",
   "execution_count": null,
   "metadata": {},
   "outputs": [],
   "source": []
  },
  {
   "cell_type": "code",
   "execution_count": null,
   "metadata": {},
   "outputs": [],
   "source": []
  },
  {
   "cell_type": "markdown",
   "metadata": {},
   "source": [
    " ### 🧮 Calculo transformada de wavelet\n",
    "\n",
    "Esta función `wavelet_alta_frecuancia` aplica la transformada de wavelet a una imagen en escala de grises. El objetivo es poder obtener los coeficientes de alta frecuencia horizontal, vertical y diagonal \n",
    "\n",
    "**¿Cómo funciona?**\n",
    "- Primero calcula la transformada de wavelet de la imagen con `pywt.wavedec2()`.\n",
    "- Luego, en el resultado de la transformada me quedo solo con los coeficientes horizontal, vertical y diagonal, es decir, descarto el coeficiente de aproximación, ya que este devuelve baja frecuencia.\n",
    "\n",
    "Este tipo de filtro es útil para análisis de nitidez, detección de bordes o estudios de textura."
   ]
  },
  {
   "cell_type": "code",
   "execution_count": null,
   "metadata": {},
   "outputs": [],
   "source": [
    "def wavelet_subbandas_diagonales(img_YCbCr, wavelet='db1'):\n",
    "    \"\"\"\n",
    "    Aplica la Transformada Wavelet Discreta 2D a la imagen y devuelve los coeficientes de alta frecuencia.\n",
    "    \"\"\"\n",
    "    coeficientes = pywt.wavedec2(img_gray, wavelet=wavelet, level=1) #wavedec2 descompone la imagen en coeficientes de alta frecuencia; level indica qeu solo es una descomposición\n",
    "    coefs_alta_frecuencia = coeficientes[1:]  # Ignoramos el coeficiente de aproximación, ya que este devuelve baja frecuencia y no nos interesa\n",
    "    return coefs_alta_frecuencia # Devuelve coeficientes -->  [(horizontal), (vertical), (diagonal)]"
   ]
  },
  {
   "cell_type": "markdown",
   "metadata": {},
   "source": []
  },
  {
   "cell_type": "code",
   "execution_count": null,
   "metadata": {},
   "outputs": [],
   "source": [
    "def valor_nitidez_basado_coeficientes(coefs_alta_frecuencia):\n",
    "    \"\"\"\n",
    "    Calcula una métrica de nitidez basada en la media de los coeficientes de alta frecuencia.\n",
    "    \"\"\"\n",
    "    n_coef = 0\n",
    "    total_coef = 0\n",
    "\n",
    "    for i in coefs_alta_frecuencia:          # Recorro ceoficiente horizontal (LH), vertical (HL) y diagonal (HH)\n",
    "        for j in i:                          # Recorro la matriz de cada nivel \n",
    "            n_coef += j.size                 # Cuetno nº total de coeficientes en dicha matriz\n",
    "            total_coef += np.sum(np.abs(j))  # Sumo los coeficientes en absoluto\n",
    "\n",
    "    if n_coef == 0:                          #No divido por 0 en la media\n",
    "        return 0\n",
    "\n",
    "    return total_coef / n_coef               # Media"
   ]
  },
  {
   "cell_type": "markdown",
   "metadata": {},
   "source": [
    "### 🗂️ Procesamiento masivo de imágenes con wavelet\n",
    "\n",
    "Esta función `procesar_imagenes_carpeta_wavelet` aplica la transformada de wavelet para calcular los coeficientes de alta frecuencia horizontal, vertical y diagonal y calcula la media de estos coeficientes en todas la imagenes `.png` dentro de una estructura de carpetas. \n",
    "\n",
    "**Qué hace:**\n",
    "- Recorre subcarpetas dentro de una carpeta principal.\n",
    "- Genera el coeficiente vertical, horizontal y diagonal a cada imagen.\n",
    "- Calcula el valor medio de estos coeficientes. \n",
    "- Guarda las imágenes resultantes (horizontal, vertical y diagonal) respetando la misma estructura de carpetas.\n",
    "- Guarda la media de los coeficientes de cada imagen en un archivo `.txt`.\n",
    "\n",
    "**Utilidad:**\n",
    "Automatiza el análisis de contenido de alta frecuencia usando la transformada de wavelet, un método con mucha precisión ya que obtiene el contenido de alta frecuencia de tres fuentes (horizontal, vertical y diagonal)"
   ]
  },
  {
   "cell_type": "code",
   "execution_count": null,
   "metadata": {},
   "outputs": [],
   "source": [
    "def procesar_imagenes_carpeta_wavelet(\n",
    "    carpeta_entrada=\"images\",\n",
    "    carpeta_salida=\"images_high_frec\",\n",
    "    wavelet='db1' #Tipo de wavelet\n",
    "):\n",
    "    \"\"\"\n",
    "    Recorre todas las subcarpetas dentro de 'carpeta_entrada'.\n",
    "    - Para cada archivo .png, aplica la transformada de wavelet\n",
    "    - Guarda la imagen resultante en 'carpeta_salida', manteniendo la misma estructura.\n",
    "    - Genera un archivo .txt con el valor de nitidez de cada imagen procesada.\n",
    "\n",
    "    Parámetros:\n",
    "    - carpeta_entrada: ruta de la carpeta de entrada.\n",
    "    - carpeta_salida: ruta de la carpeta donde se guardarán los resultados.\n",
    "    - wavelet: especifica el tipo de wavelet que se aplica, por defecto Daubechies de 1 nivel.\n",
    "    \n",
    "    \"\"\"\n",
    "    # Crear la carpeta raíz de salida, si no existe\n",
    "    os.makedirs(carpeta_salida, exist_ok=True)\n",
    "\n",
    "    # Iterar sobre todas las subcarpetas de carpeta_entrada\n",
    "    for subcarpeta in sorted(os.listdir(carpeta_entrada)):\n",
    "        ruta_subcarpeta = os.path.join(carpeta_entrada, subcarpeta)\n",
    "        \n",
    "        # Verificamos si es una carpeta\n",
    "        if not os.path.isdir(ruta_subcarpeta):\n",
    "            continue\n",
    "        \n",
    "        # Crear subcarpeta de salida correspondiente\n",
    "        carpeta_salida_sub = os.path.join(carpeta_salida, subcarpeta)\n",
    "        # Añadimos la subcarpeta específica para 'wavelet'\n",
    "        carpeta_salida_sub = os.path.join(carpeta_salida_sub, \"wavelet\")\n",
    "        os.makedirs(carpeta_salida_sub, exist_ok=True)\n",
    "        \n",
    "        # Creamos un archivo TXT para guardar las varianzas\n",
    "        ruta_txt = os.path.join(carpeta_salida_sub, \"info_nitidez_wavelet.txt\")\n",
    "        \n",
    "        with open(ruta_txt, \"w\", encoding=\"utf-8\") as archivo_txt:\n",
    "            archivo_txt.write(\"Coeficientes de alta frecuencia (Transformada de wavelet)\\n\")\n",
    "            archivo_txt.write(f\"Carpeta de imágenes: {ruta_subcarpeta}\\n\\n\")\n",
    "            archivo_txt.write(\"Valores mayores suelen corresponder a más bordes y mayor nitidez.\\n\\n\")\n",
    "            \n",
    "            # Recorremos los archivos dentro de la subcarpeta\n",
    "            for filename in sorted(os.listdir(ruta_subcarpeta)):\n",
    "                if filename.lower().endswith(\".png\"):\n",
    "                    ruta_imagen_entrada = os.path.join(ruta_subcarpeta, filename)\n",
    "                    \n",
    "                    # Cargar imagen en YCbCr\n",
    "                    img_bgr = cv2.imread(ruta_imagen_entrada)\n",
    "                    if img_bgr is None:\n",
    "                        continue\n",
    "                    img_YCbCr = cv2.cvtColor(img_bgr, cv2.COLOR_BGR2YCrCb)\n",
    "                    \n",
    "                    # Obtengo mapa de alta frecuencia usando transformada de wavelet \n",
    "                    coeficientes_alta_frecuencia = wavelet_alta_frecuancia(img_YCbCr, wavelet=wavelet)\n",
    "                    \n",
    "                    ####CAMBIAR A PARTIR DE AQUI\n",
    "\n",
    "                    \n",
    "                    # Calcular valor medio de los coeficientes \n",
    "            \n",
    "                    coef_medio = valor_nitidez_basado_coeficientes(coeficientes_alta_frecuencia) \n",
    "                    \n",
    "                    # Guardar imágenes de los coeficientes de alta frecuencia\n",
    "\n",
    "                    nombre_salida = os.path.splitext(filename)[0]  # Nombre imagen sin .png\n",
    "                    nombre_imagen = ['LH_Horizontal', 'HL_Vertical Detail', 'HH_Diagonal Detail']\n",
    "                    for i, coef in enumerate(coeficientes_alta_frecuencia[0]): #i = indice; coef = matrices LH, HL, HH\n",
    "\n",
    "                        coef_frecuencias_escalada = np.abs(coef).astype(np.uint8)   # Crear una nueva imagen para cada coeficiente\n",
    "                                                                                    # Construir ruta de salida para cada coeficiente\n",
    "                        ruta_imagen_salida = os.path.join(carpeta_salida_sub, f\"{nombre_salida}_{nombre_imagen[i].replace(' ', '_')}.png\")\n",
    "                        \n",
    "                        # Guardar imagen del coeficiente\n",
    "                        cv2.imwrite(ruta_imagen_salida, coef_frecuencias_escalada)\n",
    "\n",
    "                    # Guardar resultado en el TXT\n",
    "                    archivo_txt.write(f\"{filename} -> Coeficiente medio: {coef_medio:.3f}\\n\")\n",
    "\n",
    "    print(\"Procesamiento completado con transformada de wavelet.\")"
   ]
  },
  {
   "cell_type": "code",
   "execution_count": null,
   "metadata": {},
   "outputs": [],
   "source": [
    "# Ejecuta el procesamiento\n",
    "procesar_imagenes_carpeta_wavelet(\n",
    "    carpeta_entrada=\"imagenes\",\n",
    "    carpeta_salida=\"imagenes_procesadas\",\n",
    ")"
   ]
  }
 ],
 "metadata": {
  "kernelspec": {
   "display_name": "venv",
   "language": "python",
   "name": "python3"
  },
  "language_info": {
   "codemirror_mode": {
    "name": "ipython",
    "version": 3
   },
   "file_extension": ".py",
   "mimetype": "text/x-python",
   "name": "python",
   "nbconvert_exporter": "python",
   "pygments_lexer": "ipython3",
   "version": "3.12.8"
  }
 },
 "nbformat": 4,
 "nbformat_minor": 2
}
