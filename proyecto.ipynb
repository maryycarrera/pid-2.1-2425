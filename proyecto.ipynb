{
 "cells": [
  {
   "cell_type": "code",
   "execution_count": null,
   "metadata": {
    "vscode": {
     "languageId": "plaintext"
    }
   },
   "outputs": [],
   "source": [
    "import cv2\n",
    "import numpy as np\n",
    "import os\n",
    "import matplotlib.pyplot as plt"
   ]
  },
  {
   "cell_type": "code",
   "execution_count": null,
   "metadata": {
    "vscode": {
     "languageId": "plaintext"
    }
   },
   "outputs": [],
   "source": [
    "# Función para aplicar el filtro pasa alto\n",
    "def high_pass_filter(image, kernel_size=3, sigma=0.25):\n",
    "    # Aplica un filtro gaussiano (pasa bajo)\n",
    "    gaussian_blur = cv2.GaussianBlur(image, (kernel_size, kernel_size), sigma)\n",
    "    \n",
    "    # Elimina el componente de baja frecuencia para obtener el filtro pasa alto\n",
    "    high_pass = image - gaussian_blur\n",
    "    return high_pass\n",
    "\n",
    "# Función para calcular la desviación estándar local\n",
    "def local_standard_deviation(image, block_size=7):\n",
    "    # Calcula la desviación estándar local de la imagen con una ventana deslizante\n",
    "    mean = cv2.boxFilter(image, -1, (block_size, block_size))\n",
    "    squared_mean = cv2.boxFilter(image**2, -1, (block_size, block_size))\n",
    "    local_std = np.sqrt(squared_mean - mean**2)\n",
    "    return local_std\n",
    "\n",
    "# Función para calcular el mapa de nitidez\n",
    "def sharpness_map(image, block_size=7, alpha=2.0):\n",
    "    # Convierte la imagen a escala de grises\n",
    "    gray_image = cv2.cvtColor(image, cv2.COLOR_BGR2GRAY)\n",
    "\n",
    "    # Aplica el filtro pasa alto\n",
    "    high_pass = high_pass_filter(gray_image)\n",
    "\n",
    "    # Calcula la desviación estándar local\n",
    "    local_std = local_standard_deviation(gray_image, block_size)\n",
    "\n",
    "    # Pondera el filtro pasa alto por la desviación estándar\n",
    "    high_freq_weighted = high_pass * local_std\n",
    "\n",
    "    # Aplica un exponente\n",
    "    sharpness_map = np.abs(np.log(np.abs(high_freq_weighted) + 1e-6) ** alpha)\n",
    "\n",
    "    return sharpness_map\n",
    "\n",
    "# Función para calcular el puntaje de nitidez de una imagen\n",
    "def calculate_sharpness_score(image):\n",
    "    sharp_map = sharpness_map(image)\n",
    "    sharpness_score = np.max(sharp_map)  # Usamos el valor máximo del mapa de nitidez como el puntaje\n",
    "    return sharpness_score\n",
    "\n",
    "# Función para seleccionar la imagen más nítida de una carpeta de imágenes\n",
    "def select_best_image_from_folder(folder_path):\n",
    "    best_score = -1  # Inicializamos el mejor puntaje con un valor bajo\n",
    "    best_image = None\n",
    "    best_image_name = \"\"\n",
    "\n",
    "    # Iteramos sobre todas las imágenes en la carpeta\n",
    "    for filename in os.listdir(folder_path):\n",
    "        if filename.endswith((\".jpg\", \".png\", \".jpeg\")):  # Solo imágenes\n",
    "            image_path = os.path.join(folder_path, filename)\n",
    "            image = cv2.imread(image_path)\n",
    "            \n",
    "            # Calculamos el puntaje de nitidez\n",
    "            score = calculate_sharpness_score(image)\n",
    "\n",
    "            # Si encontramos una imagen con un puntaje mayor, la seleccionamos como la mejor\n",
    "            if score > best_score:\n",
    "                best_score = score\n",
    "                best_image = image\n",
    "                best_image_name = filename\n",
    "\n",
    "    return best_image, best_image_name, best_score\n",
    "\n",
    "# Función para mostrar la imagen y su mapa de nitidez\n",
    "def display_sharpness(image, sharp_map):\n",
    "    plt.figure(figsize=(10, 5))\n",
    "    \n",
    "    # Mostrar la imagen original\n",
    "    plt.subplot(1, 2, 1)\n",
    "    plt.imshow(cv2.cvtColor(image, cv2.COLOR_BGR2RGB))\n",
    "    plt.title(\"Imagen Original\")\n",
    "    plt.axis('off')\n",
    "\n",
    "    # Mostrar el mapa de nitidez\n",
    "    plt.subplot(1, 2, 2)\n",
    "    plt.imshow(sharp_map, cmap='hot')\n",
    "    plt.title(\"Mapa de Nitidez\")\n",
    "    plt.axis('off')\n",
    "    \n",
    "    plt.show()"
   ]
  },
  {
   "cell_type": "code",
   "execution_count": null,
   "metadata": {
    "vscode": {
     "languageId": "plaintext"
    }
   },
   "outputs": [],
   "source": [
    "# Ruta de la carpeta que contiene las imágenes (ajustar esta ruta)\n",
    "folder_path = '/images/000002' # Cambia esto a la ruta de tu carpeta de imágenes\n",
    "\n",
    "# Seleccionamos la mejor imagen\n",
    "best_image, best_image_name, best_score = select_best_image_from_folder(folder_path)\n",
    "\n",
    "# Mostrar la mejor imagen y su mapa de nitidez\n",
    "if best_image is not None:\n",
    "    print(f\"La imagen más nítida es: {best_image_name} con un puntaje de nitidez de {best_score:.4f}\")\n",
    "    sharp_map = sharpness_map(best_image)\n",
    "    display_sharpness(best_image, sharp_map)\n",
    "else:\n",
    "    print(\"No se encontraron imágenes en la carpeta.\")\n",
    "/"
   ]
  }
 ],
 "metadata": {
  "kernelspec": {
   "display_name": "venv",
   "language": "python",
   "name": "python3"
  },
  "language_info": {
   "name": "python",
   "version": "3.11.9"
  }
 },
 "nbformat": 4,
 "nbformat_minor": 2
}
