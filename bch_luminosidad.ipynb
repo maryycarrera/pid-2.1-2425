{
 "cells": [
  {
   "cell_type": "code",
   "execution_count": null,
   "metadata": {},
   "outputs": [],
   "source": [
    "import cv2\n",
    "import numpy as np\n",
    "import os"
   ]
  },
  {
   "cell_type": "markdown",
   "metadata": {},
   "source": [
    "### MATRIZ BCH\n",
    "\n",
    "Esta matríz se ha obtenido del artículo científico: `Brightness Calculation in Digital Image Processing` y nos ayudará a calcular el brillo de una imagen."
   ]
  },
  {
   "cell_type": "code",
   "execution_count": null,
   "metadata": {},
   "outputs": [],
   "source": [
    "MATRIZ_toDEF = np.array([[0.2053, 0.7125, 0.4670],\n",
    "                        [1.8537, -1.2797, -0.4429],\n",
    "                        [-0.3655, 1.0120, -0.6014]])\n",
    "\n",
    "print(MATRIZ_toDEF) "
   ]
  },
  {
   "cell_type": "code",
   "execution_count": null,
   "metadata": {},
   "outputs": [],
   "source": [
    "MATRIZ_toXYZ = np.array([[0.6712, 0.4955, 0.1540],\n",
    "                        [0.7061, 0.0248, 0.5223],\n",
    "                        [0.7689, -0.2556, -0.8645]])"
   ]
  },
  {
   "cell_type": "markdown",
   "metadata": {},
   "source": [
    "### 🧮 Cálculo del Brillo utilizando la Métrica de Cohen  \n",
    "\n",
    "La función `obtener_brillo` calcula el brillo de una imagen a partir de sus componentes en el espacio de color XYZ, utilizando la métrica de Cohen basada en el modelo BCH (Brightness, Chroma, Hue).  \n",
    "\n",
    "**¿Cómo funciona?**  \n",
    "- Transformación BCH:  \n",
    "   - Se toma la imagen en sus componentes **X, Y, Z** (R, G, B) y se aplica la matriz auxiliar para obtener nuevas representaciones **D, E, F**.    \n",
    "\n",
    "- Cálculo brillo:\n",
    "   - A partir de los valores **D, E, F**, se calcula el brillo **B** como la norma euclidiana en este espacio:  \n",
    "     \n",
    "     ```math\n",
    "     B = \\sqrt{D^2 + E^2 + F^2}\n",
    "     ```"
   ]
  },
  {
   "cell_type": "code",
   "execution_count": null,
   "metadata": {},
   "outputs": [],
   "source": [
    "def calc_metricas_cohen(X, Y, Z):\n",
    "    alto, ancho = X.shape\n",
    "    # Stack y reshape en una matriz (N, 3)\n",
    "    pixels_xyz = np.stack([X, Y, Z], axis=-1).reshape(-1, 3)\n",
    "    # Aplicar la matriz DEF\n",
    "    cohen = pixels_xyz @ MATRIZ_toDEF.T  # Resultado (N, 3)\n",
    "    return cohen.reshape(alto, ancho, 3)\n",
    "\n",
    "def calc_bch_to_xyz(B, C, H):\n",
    "    alto, ancho = B.shape\n",
    "    # Stack y reshape en una matriz (N, 3)\n",
    "    pixels_bch = np.stack([B, C, H], axis=-1).reshape(-1, 3)\n",
    "    # Aplicar la matriz XYZ\n",
    "    xyz = pixels_bch @ MATRIZ_toXYZ.T  # Resultado (N, 3)\n",
    "    return xyz.reshape(alto, ancho, 3)\n",
    "\n",
    "def obtener_brillo_y_valores_def(X, Y, Z):\n",
    "    cohen = calc_metricas_cohen(X, Y, Z)\n",
    "    D, E, F = cohen[:, :, 0], cohen[:, :, 1], cohen[:, :, 2]\n",
    "    B = np.sqrt(D**2 + E**2 + F**2)\n",
    "    return B.mean(), D, E, F"
   ]
  },
  {
   "cell_type": "markdown",
   "metadata": {},
   "source": [
    "### 🧮 Obtener brillo y canal DEF de la imagen\n",
    "\n",
    "La función `obtener_def_imagen` aplica las funciones creadas en la celda anterior y devuelve el valor del canal DEF.\n",
    "\n",
    "**¿Cómo funciona?**  \n",
    "- Se transforma el formato de la imagen para que los valores estén entre 0 y 256 B\n",
    "- Transforma la imagen en X Y Z a partir de rgb y se guarda cada canal\n",
    "- Le pasa cada componente a la función `obtener_brillo_y_valores_def` y guarda valor D E F\n",
    "- Devuelve los canales D E F por separado"
   ]
  },
  {
   "cell_type": "code",
   "execution_count": null,
   "metadata": {},
   "outputs": [],
   "source": [
    "def obtener_def_imagen(imagen_rgb):\n",
    "    imagen_float = imagen_rgb.astype(np.float32) / 255.0\n",
    "\n",
    "    X, Y, Z = cv2.split(cv2.cvtColor(imagen_float, cv2.COLOR_RGB2XYZ))\n",
    "    \n",
    "    _, D, E, F = obtener_brillo_y_valores_def(X, Y, Z)\n",
    "    return D, E, F"
   ]
  },
  {
   "cell_type": "markdown",
   "metadata": {},
   "source": [
    "### 🧮 Cargar imagen RGB   \n",
    "\n",
    "La función `cargar_imagen_rgb` es una función auxiliar que carga una imagen en rgb .  \n"
   ]
  },
  {
   "cell_type": "code",
   "execution_count": null,
   "metadata": {},
   "outputs": [],
   "source": [
    "def cargar_imagen_rgb(ruta):\n",
    "    img = cv2.imread(ruta)\n",
    "    if img is None:\n",
    "        raise FileNotFoundError(f\"No se pudo cargar la imagen: {ruta}\")\n",
    "    return cv2.cvtColor(img, cv2.COLOR_BGR2RGB)"
   ]
  },
  {
   "cell_type": "markdown",
   "metadata": {},
   "source": [
    "### 🗂️ Procesamiento masivo de imágenes calculo del brillo\n",
    "\n",
    "Esta función `procesar_imagenes_carpeta_bch` aplica la métrica de Cohen para calcular el brillo a todas las imágenes `.png` dentro de una estructura de carpetas.\n",
    "\n",
    "**Qué hace:**\n",
    "- Recorre subcarpetas dentro de una carpeta principal.\n",
    "- Carga la imagen en RGB.\n",
    "- Aplica la métrica de cohen para obtenter el brillo .\n",
    "- Guarda el valor del brillo obtenido en un archivo `.txt`."
   ]
  },
  {
   "cell_type": "code",
   "execution_count": null,
   "metadata": {},
   "outputs": [],
   "source": [
    "def procesar_imagenes_carpeta_bch(\n",
    "        carpeta_entrada=\"images\",\n",
    "        carpeta_salida=\"images_procesadas\"\n",
    "):\n",
    "    # Crear la carpeta raíz de salida, si no existe\n",
    "    os.makedirs(carpeta_salida, exist_ok=True)\n",
    "\n",
    "    # Iterar sobre todas las subcarpetas de carpeta_entrada\n",
    "    for subcarpeta in sorted(os.listdir(carpeta_entrada)):\n",
    "        ruta_subcarpeta = os.path.join(carpeta_entrada, subcarpeta)\n",
    "        \n",
    "        # Verificamos si es una carpeta\n",
    "        if not os.path.isdir(ruta_subcarpeta):\n",
    "            continue\n",
    "        \n",
    "        # Crear subcarpeta de salida correspondiente\n",
    "        carpeta_salida_sub = os.path.join(carpeta_salida, subcarpeta)\n",
    "\n",
    "        # Añadimos la subcarpeta específica para la luminosidad\n",
    "        carpeta_salida_sub = os.path.join(carpeta_salida_sub, \"luminosidad\")\n",
    "        os.makedirs(carpeta_salida_sub, exist_ok=True)\n",
    "        \n",
    "        # Creamos un archivo TXT para guardar los brillos\n",
    "        ruta_txt = os.path.join(carpeta_salida_sub, \"info_brillos_bch.txt\")\n",
    "\n",
    "        with open(ruta_txt, \"w\", encoding=\"utf-8\") as archivo_txt:\n",
    "            archivo_txt.write(\"Nivel de Brillo (método BCH)\\n\")\n",
    "            archivo_txt.write(f\"Carpeta de imágenes: {ruta_subcarpeta}\\n\\n\")\n",
    "            archivo_txt.write(\"Valores mayores corresponden a mayor brillo.\\n\\n\")\n",
    "            \n",
    "            # Recorremos los archivos dentro de la subcarpeta\n",
    "            for filename in sorted(os.listdir(ruta_subcarpeta)):\n",
    "                if filename.lower().endswith((\"sharp.png\", \"bright.png\", \"dark.png\")):\n",
    "                    ruta_imagen_entrada = os.path.join(ruta_subcarpeta, filename)\n",
    "                    \n",
    "                    # Cargar imagen en rgb\n",
    "                    img_rgb = cargar_imagen_rgb(ruta_imagen_entrada)\n",
    "                    \n",
    "                    # Calcular brillo\n",
    "                    imagen_float = img_rgb.astype(np.float32) / 255.0\n",
    "                    X, Y, Z = cv2.split(cv2.cvtColor(imagen_float, cv2.COLOR_RGB2XYZ))\n",
    "                    brillo = obtener_brillo_y_valores_def(X, Y, Z) [0]\n",
    "\n",
    "                    \n",
    "                    # Guardar resultado en el TXT\n",
    "                    archivo_txt.write(f\"{filename} -> brillo: {brillo:.4f}\\n\")\n",
    "\n",
    "    print(\"Procesamiento completado con método BCH.\")"
   ]
  },
  {
   "cell_type": "code",
   "execution_count": null,
   "metadata": {},
   "outputs": [],
   "source": [
    "procesar_imagenes_carpeta_bch(\n",
    "    carpeta_entrada=\"images\",\n",
    "    carpeta_salida=\"images_procesadas\"\n",
    ")"
   ]
  },
  {
   "cell_type": "markdown",
   "metadata": {},
   "source": [
    "### 🧮 Modificar brillo de una imagen   \n",
    "**¿Cómo funciona?**  \n",
    "- Se determina un coeficiente ventana al llamar a la función que establece la cantidad de píxeles que se utilizarán para calcular la media del brillo.\n",
    "- Se determina un coeficiente k al llamar a la función que establece la intensidad del contraste.\n",
    "- Se calcula el brillo de la imagen utilizando la matriz BCH.\n",
    "- Se obtiene el brillo promedio de la imagen con la funcion `calcular_b_promedio`.\n",
    "- Se aplica la formula del artículo científico para modificar el brillo.\n",
    "- Se modifican los canales de la imagen con los nuevos valores.\n",
    "- Devuelve la imagen con el nuevo contraste."
   ]
  },
  {
   "cell_type": "code",
   "execution_count": null,
   "metadata": {},
   "outputs": [],
   "source": [
    "def modificar_brillo(imagen_rgb, ev):\n",
    "    \"\"\"\n",
    "    Implementa la mejora de brillo preservando las coordenadas cromáticas\n",
    "    según la fórmula (5) del paper\n",
    "    \"\"\"\n",
    "    # Obtener componentes D, E, F\n",
    "    D, E, F = obtener_def_imagen(imagen_rgb)\n",
    "    \n",
    "    # Calcular brillo como la norma euclidiana de D, E, F\n",
    "    epsilon = 1e-10\n",
    "    brillo = np.sqrt(D**2 + E**2 + F**2)\n",
    "    \n",
    "    # Calcular C y H según las fórmulas del modelo BCH\n",
    "    # C = arccos(D/B)\n",
    "    C = np.arccos(np.clip(D / (brillo + epsilon), -1.0, 1.0))\n",
    "    \n",
    "    # H = arctan2(F, E) - Usando arctan2 para obtener el ángulo completo en el rango [-π, π]\n",
    "    sin_C = np.sin(C)\n",
    "    # Evitar división por cero\n",
    "    mask = sin_C > epsilon\n",
    "    H = np.zeros_like(C)\n",
    "    \n",
    "    # E = B*sin(C)*cos(H),  F = B*sin(C)*sin(H)\n",
    "    # tan(H) = F/E  →  H = arctan2(F, E)\n",
    "    # Usar arctan2 para determinar el ángulo correctamente en todos los cuadrantes\n",
    "    H[mask] = np.arctan2(F[mask], E[mask])\n",
    "        \n",
    "    # Aplicar la fórmula de modificación de brillo\n",
    "    nuevo_B = np.power(2, ev) * brillo\n",
    "    \n",
    "    # Limitar valores al rango válido\n",
    "    nuevo_B = np.clip(nuevo_B, 0, 255)\n",
    "    \n",
    "    # Reconstruir D, E, F usando las fórmulas del modelo BCH\n",
    "    # D = B * cos(C)\n",
    "    nuevo_D = nuevo_B * np.cos(C)\n",
    "    # E = B * sin(C) * cos(H)\n",
    "    nuevo_E = nuevo_B * np.sin(C) * np.cos(H)\n",
    "    # F = B * sin(C) * sin(H)\n",
    "    nuevo_F = nuevo_B * np.sin(C) * np.sin(H)\n",
    "    \n",
    "    # Convertir de DEF a XYZ\n",
    "    nuevoXYZ = calc_bch_to_xyz(nuevo_D, nuevo_E, nuevo_F)\n",
    "    \n",
    "    # Asegurar que nuevoXYZ esté en el formato correcto\n",
    "    nuevoXYZ = nuevoXYZ.astype(np.float32)\n",
    "    \n",
    "    # Convertir de vuelta a RGB\n",
    "    resultado = cv2.cvtColor(nuevoXYZ, cv2.COLOR_XYZ2RGB) * 255\n",
    "    \n",
    "    # Retornar como uint8\n",
    "    return np.clip(resultado, 0, 255).astype(np.uint8)\n"
   ]
  }
 ],
 "metadata": {
  "kernelspec": {
   "display_name": "venv",
   "language": "python",
   "name": "python3"
  },
  "language_info": {
   "codemirror_mode": {
    "name": "ipython",
    "version": 3
   },
   "file_extension": ".py",
   "mimetype": "text/x-python",
   "name": "python",
   "nbconvert_exporter": "python",
   "pygments_lexer": "ipython3",
   "version": "3.11.9"
  }
 },
 "nbformat": 4,
 "nbformat_minor": 2
}
