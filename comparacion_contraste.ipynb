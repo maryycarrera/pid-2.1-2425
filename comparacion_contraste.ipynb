{
 "cells": [
  {
   "cell_type": "code",
   "execution_count": null,
   "id": "0",
   "metadata": {},
   "outputs": [],
   "source": [
    "import cv2\n",
    "import numpy as np\n",
    "import os\n",
    "from utils import *\n",
    "import matplotlib.pyplot as plt"
   ]
  },
  {
   "cell_type": "code",
   "execution_count": null,
   "id": "1",
   "metadata": {},
   "outputs": [],
   "source": [
    "#Medir contraste\n",
    "def calcular_varianza_histograma(img_gray):\n",
    "    \"\"\"\n",
    "    Calcula la varianza en el histograma para saber el contraste de la imagen \n",
    "    Retorna:\n",
    "        - Varianza (dispersión de intensidades).\n",
    "    \"\"\"\n",
    "       \n",
    "    # Calcular histograma\n",
    "    hist = cv2.calcHist([img_gray], [0], None, [256], [0, 256]).flatten()\n",
    "    \n",
    "    total_pixeles = img_gray.size\n",
    "    valores = np.arange(256) # Valores posibles de intensidad (0-255)\n",
    "    media = np.sum(valores * hist) / total_pixeles\n",
    "    varianza = np.sum(((valores - media) ** 2) * hist) / total_pixeles\n",
    "\n",
    "    return hist, varianza"
   ]
  },
  {
   "cell_type": "code",
   "execution_count": null,
   "id": "2",
   "metadata": {},
   "outputs": [],
   "source": [
    "def procesar_imagenes_carpeta_contraste(\n",
    "    carpeta_entrada=\"images\",\n",
    "    carpeta_salida=\"images_procesadas\"\n",
    "):\n",
    "    # Crear la carpeta raíz de salida, si no existe\n",
    "    os.makedirs(carpeta_salida, exist_ok=True)\n",
    "\n",
    "    # Iterar sobre todas las subcarpetas de carpeta_entrada\n",
    "    for subcarpeta in sorted(os.listdir(carpeta_entrada)):\n",
    "        ruta_subcarpeta = os.path.join(carpeta_entrada, subcarpeta)\n",
    "\n",
    "        if not os.path.isdir(ruta_subcarpeta):\n",
    "            continue\n",
    "\n",
    "        carpeta_salida_sub = os.path.join(carpeta_salida, subcarpeta, \"contraste\")\n",
    "        os.makedirs(carpeta_salida_sub, exist_ok=True)\n",
    "\n",
    "        ruta_txt = os.path.join(carpeta_salida_sub, \"info_varianzas_contraste.txt\")\n",
    "        with open(ruta_txt, \"w\", encoding=\"utf-8\") as archivo_txt:\n",
    "            archivo_txt.write(\"Varianzas de los histogramas en escala de grises de las imágenes\\n\")\n",
    "            archivo_txt.write(f\"Carpeta de imágenes: {ruta_subcarpeta}\\n\\n\")\n",
    "            archivo_txt.write(\"La varianza indica la dispersión de los niveles de gris.\\n\")\n",
    "            archivo_txt.write(\"Valores mayores de la varianza corresponden a mayor contraste.\\n\\n\")\n",
    "\n",
    "            for filename in sorted(os.listdir(ruta_subcarpeta)):\n",
    "                if not filename.lower().endswith(\".png\"):\n",
    "                    continue\n",
    "\n",
    "                ruta_imagen_entrada = os.path.join(ruta_subcarpeta, filename)\n",
    "                img_bgr = cv2.imread(ruta_imagen_entrada)\n",
    "                if img_bgr is None:\n",
    "                    continue\n",
    "\n",
    "                img_gray = cv2.cvtColor(img_bgr, cv2.COLOR_BGR2GRAY)\n",
    "\n",
    "                # Calcular la varianza del histograma\n",
    "                hist, varianza = calcular_varianza_histograma(img_gray)\n",
    "\n",
    "                nombre, _ = os.path.splitext(filename)\n",
    "                nombre_salida = f\"{nombre}_histograma_grises.png\"\n",
    "                ruta_imagen_salida = os.path.join(carpeta_salida_sub, nombre_salida)\n",
    "\n",
    "                # Graficar y guardar el histograma\n",
    "                plt.figure()\n",
    "                plt.plot(hist, color='black')\n",
    "                plt.title(f\"Histograma de {filename}\")\n",
    "                plt.xlabel(\"Intensidad de píxeles\")\n",
    "                plt.ylabel(\"Frecuencia\")\n",
    "                plt.savefig(ruta_imagen_salida)\n",
    "                plt.close()\n",
    "                \n",
    "                archivo_txt.write(f\"{filename} -> varianza: {varianza:.3f}\\n\")\n",
    "\n",
    "    print(\"Procesamiento completado con cálculo de contraste.\")"
   ]
  },
  {
   "cell_type": "code",
   "execution_count": null,
   "id": "3",
   "metadata": {},
   "outputs": [],
   "source": [
    "procesar_imagenes_carpeta_contraste(\n",
    "    carpeta_entrada=\"images\",\n",
    "    carpeta_salida=\"images_procesadas\"\n",
    ")"
   ]
  }
 ],
 "metadata": {
  "kernelspec": {
   "display_name": "venv",
   "language": "python",
   "name": "python3"
  },
  "language_info": {
   "codemirror_mode": {
    "name": "ipython",
    "version": 3
   },
   "file_extension": ".py",
   "mimetype": "text/x-python",
   "name": "python",
   "nbconvert_exporter": "python",
   "pygments_lexer": "ipython3",
   "version": "3.11.9"
  }
 },
 "nbformat": 4,
 "nbformat_minor": 5
}
